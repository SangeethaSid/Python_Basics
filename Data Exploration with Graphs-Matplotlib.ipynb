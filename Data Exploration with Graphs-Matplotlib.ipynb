{
 "cells": [
  {
   "cell_type": "markdown",
   "metadata": {},
   "source": [
    "<br><p style=\"font-family: Arial; font-size:3.75em;color:purple; font-style:bold\">\n",
    "Data Exploration with Graphs: Matplotlib</p><br><br>"
   ]
  },
  {
   "cell_type": "markdown",
   "metadata": {},
   "source": [
    "### Matplotlib\n",
    "It is probably the most used library for visualization in Python. You may find the documentation here: <br>\n",
    "https://matplotlib.org/stable/contents.html<br>\n",
    "Also, the examples can help you to apply templates directly. You may find them here:<br>\n",
    "https://matplotlib.org/stable/gallery/index.html\n",
    "Other popular visualization packages include:<br>\n",
    "1. Seaborn: built on top of Matplotlib. The key difference is that Seaborn graphs are more aesthetically pleasing and modern.<br>\n",
    "2. Geoplotlib: to visualize geographic data and make maps.<br>\n",
    "3. Plotnine: A Python implementation of ggplot2 based on the grammar of graphics. It is easy to add mulitple layers of graphs.<br>\n",
    "4. Bokeh: to create interactive, web-ready plots<br>\n",
    "and many more."
   ]
  },
  {
   "cell_type": "markdown",
   "metadata": {
    "collapsed": true
   },
   "source": [
    "In this Notebook, we are going to demonstrate in detail of Matplotlib graphs using the following data set.\n",
    "<p>Data Source: https://www.kaggle.com/worldbank/world-development-indicators</p>\n",
    "The World Development Indicators dataset obtained from the World Bank contains over a thousand annual indicators of economic development from hundreds of countries around the world. "
   ]
  },
  {
   "cell_type": "markdown",
   "metadata": {},
   "source": [
    "## Using graphs to explore data\n",
    "### Some basic rules\n",
    "### 1. Individual variables: examine their distributions - how data objects distributed across the values of the variable\n",
    "     1. Interval: histogram or boxplot for distribution\n",
    "     2. Categorical: bar or pie chart to show the counts of data objects in each category\n",
    "### 2. Relationships between variables:\n",
    "     1. Two continuous variables: scatterplot\n",
    "     2. One continuous variable and one categorical variable: boxplots or histograms of the continuous variable\n",
    "        across categories of the categorical variable\n",
    "     3. Two categorical variables: pivot_table; stacked bar charts (bar chart of one categorical variable across\n",
    "        the categories of the other variable)\n",
    "     4. Change over time: line chart\n",
    "### 3. More than two variables: high dimensional graphs"
   ]
  },
  {
   "cell_type": "code",
   "execution_count": null,
   "metadata": {},
   "outputs": [],
   "source": [
    "# This code appears in every demonstration Notebook.\n",
    "# By default, when you run each cell, only the last output of the codes will show.\n",
    "# This code makes all outputs of a cell show.\n",
    "from IPython.core.interactiveshell import InteractiveShell\n",
    "InteractiveShell.ast_node_interactivity = \"all\""
   ]
  },
  {
   "cell_type": "markdown",
   "metadata": {},
   "source": [
    "# Step 1: Understanding the Dataset"
   ]
  },
  {
   "cell_type": "code",
   "execution_count": null,
   "metadata": {},
   "outputs": [],
   "source": [
    "import numpy as np\n",
    "import pandas as pd\n",
    "import matplotlib.pyplot as plt\n",
    "import random"
   ]
  },
  {
   "cell_type": "code",
   "execution_count": null,
   "metadata": {
    "scrolled": true
   },
   "outputs": [],
   "source": [
    "# Import data. My Notebook file is in the same folder as the data file. So, I can directly use the file name.\n",
    "# Please adapt the code to your file directory.\n",
    "world=pd.read_csv('Indicators.csv')"
   ]
  },
  {
   "cell_type": "markdown",
   "metadata": {},
   "source": [
    "This is a really large dataset, at least in terms of the number of rows."
   ]
  },
  {
   "cell_type": "code",
   "execution_count": null,
   "metadata": {
    "scrolled": true
   },
   "outputs": [],
   "source": [
    "world.head()\n",
    "world.shape\n",
    "world.info()"
   ]
  },
  {
   "cell_type": "code",
   "execution_count": null,
   "metadata": {},
   "outputs": [],
   "source": [
    "world.isnull().sum()"
   ]
  },
  {
   "cell_type": "markdown",
   "metadata": {},
   "source": [
    "### Now let's examine the data. Each row records the value of a development indicator by country/region and year."
   ]
  },
  {
   "cell_type": "markdown",
   "metadata": {},
   "source": [
    "### How many different indicator names?"
   ]
  },
  {
   "cell_type": "code",
   "execution_count": null,
   "metadata": {},
   "outputs": [],
   "source": [
    "inds=world['IndicatorName'].unique()\n",
    "len(inds)"
   ]
  },
  {
   "cell_type": "markdown",
   "metadata": {},
   "source": [
    "### Is the number of indicator codes the same?"
   ]
  },
  {
   "cell_type": "code",
   "execution_count": null,
   "metadata": {},
   "outputs": [],
   "source": [
    "indsc=world['IndicatorCode'].unique()\n",
    "len(indsc)"
   ]
  },
  {
   "cell_type": "markdown",
   "metadata": {},
   "source": [
    "It suggests that IndicatorName and IndicatorCode are paired with each other."
   ]
  },
  {
   "cell_type": "markdown",
   "metadata": {},
   "source": [
    "### Is the number of unique indicators the same every year?"
   ]
  },
  {
   "cell_type": "code",
   "execution_count": null,
   "metadata": {},
   "outputs": [],
   "source": [
    "# check for the number of unique indicators in one specific year\n",
    "# We can use filter to select a specific year\n",
    "ind2000=world[world['Year']==2000]['IndicatorName'].unique()\n",
    "len(ind2000)"
   ]
  },
  {
   "cell_type": "markdown",
   "metadata": {},
   "source": [
    "### Is the number of unique inidicators the same for every country?"
   ]
  },
  {
   "cell_type": "code",
   "execution_count": null,
   "metadata": {},
   "outputs": [],
   "source": [
    "# check for the number of unique indicators for a specific country\n",
    "indAfg=world[world['CountryName']=='Afghanistan']['IndicatorName'].unique()\n",
    "len(indAfg)"
   ]
  },
  {
   "cell_type": "code",
   "execution_count": null,
   "metadata": {},
   "outputs": [],
   "source": [
    "# check for the number of unique indicators in one specific year for USA\n",
    "indUSA2000 = world[(world['Year']==2000) & (world['CountryName']=='United States')]['IndicatorName'].unique()\n",
    "len(indUSA2000)"
   ]
  },
  {
   "cell_type": "markdown",
   "metadata": {},
   "source": [
    "### Conclusion: the indicators vary for country and year. \n",
    "We could make reasonable inferences in the following ways:\n",
    "1. Fix one dimensions and observe the changes in the other dimension:<br>\n",
    "    Compare the same indicator over different years for a country<br>\n",
    "    Compare the same indicator across countries for one year<br>\n",
    "3. Both dimensions<br>\n",
    "    Compare the same indicator over different years and across countries"
   ]
  },
  {
   "cell_type": "markdown",
   "metadata": {},
   "source": [
    "### How many unique country names are there ?"
   ]
  },
  {
   "cell_type": "code",
   "execution_count": null,
   "metadata": {},
   "outputs": [],
   "source": [
    "countries=world['CountryName'].unique()\n",
    "len(countries)"
   ]
  },
  {
   "cell_type": "markdown",
   "metadata": {},
   "source": [
    "### Are there same number of country codes ?"
   ]
  },
  {
   "cell_type": "code",
   "execution_count": null,
   "metadata": {},
   "outputs": [],
   "source": [
    "countcodes=world['CountryCode'].unique()\n",
    "len(countcodes)"
   ]
  },
  {
   "cell_type": "markdown",
   "metadata": {},
   "source": [
    "### Conclusion: Country code and name are paired correctly."
   ]
  },
  {
   "cell_type": "markdown",
   "metadata": {},
   "source": [
    "### How many years of data do we have ?"
   ]
  },
  {
   "cell_type": "code",
   "execution_count": null,
   "metadata": {},
   "outputs": [],
   "source": [
    "# How many years of data do we have ?\n",
    "years=world['Year'].unique()\n",
    "len(years)"
   ]
  },
  {
   "cell_type": "markdown",
   "metadata": {},
   "source": [
    "### What's the range of years?"
   ]
  },
  {
   "cell_type": "code",
   "execution_count": null,
   "metadata": {
    "scrolled": true
   },
   "outputs": [],
   "source": [
    "print(min(years), 'to', max(years))"
   ]
  },
  {
   "cell_type": "markdown",
   "metadata": {},
   "source": [
    "### Conclusion: The data contains over a thousand development indicators for 247 countries over the years of 1960 - 2015. The number of indicators may vary year from year and across countries."
   ]
  },
  {
   "cell_type": "markdown",
   "metadata": {},
   "source": [
    "<p style=\"font-family: Arial; font-size:2.5em;color:blue; font-style:bold\">\n",
    "Step 2: Exploration with basic plotting</p><br>"
   ]
  },
  {
   "cell_type": "markdown",
   "metadata": {},
   "source": [
    "### 1. Simple line graph\n",
    "    Line graphs are good for describing trends over time. Pick a country and an indicator to explore changes over time: CO2 Emissions per capita and the USA"
   ]
  },
  {
   "cell_type": "code",
   "execution_count": null,
   "metadata": {},
   "outputs": [],
   "source": [
    "# First, we need to identify CO2-related indicators and find the one we want.\n",
    "import re\n",
    "world['IndicatorName'][world['IndicatorName'].str.contains('CO2', re.IGNORECASE)].unique()"
   ]
  },
  {
   "cell_type": "code",
   "execution_count": null,
   "metadata": {},
   "outputs": [],
   "source": [
    "# Then we use the indicator 'CO2 emissions (metric tons per capita)' for our examination\n",
    "# We filter the data to get the indicator value for the US over the years.\n",
    "hist_indicator='CO2 emissions \\(metric' # filter1 - indicator\n",
    "hist_country='USA' # filter 2 - country code\n",
    "\n",
    "mask1=world['IndicatorName'].str.contains(hist_indicator)\n",
    "mask2=world['CountryCode'].str.contains(hist_country)\n",
    "\n",
    "USAco2=world[mask1 & mask2]"
   ]
  },
  {
   "cell_type": "code",
   "execution_count": null,
   "metadata": {},
   "outputs": [],
   "source": [
    "USAco2.head()"
   ]
  },
  {
   "cell_type": "markdown",
   "metadata": {},
   "source": [
    "### To observe changes over years, line graphs is the best choice."
   ]
  },
  {
   "cell_type": "markdown",
   "metadata": {},
   "source": [
    "Now let's understand a 2D graph. It has x axis, y axis and a geometry object (lines, points or bars) \n",
    "to map x, y values to the coodinates.\n",
    "It also may have a title and labels for axes and the geometry objects.\n",
    "To draw a graph:\n",
    "1. Understand what your x and y axes mean; \n",
    "2. Choose proper type of graphs\n",
    "3. Prepare x and y values; \n",
    "4. Get the basic graph\n",
    "5. Adjust aesthetic components of the graph "
   ]
  },
  {
   "cell_type": "code",
   "execution_count": null,
   "metadata": {},
   "outputs": [],
   "source": [
    "# Plot CO2 emission in the US over the years\n",
    "# 1. X - years; Y - CO2 emission values\n",
    "# 2. Line graph\n",
    "# 3. Prepare X and Y\n",
    "# X: the years;\n",
    "years=USAco2['Year']\n",
    "# Y: the values \n",
    "co2=USAco2['Value']"
   ]
  },
  {
   "cell_type": "code",
   "execution_count": null,
   "metadata": {},
   "outputs": [],
   "source": [
    "# plt provides different styles for plots. For instance, 'ggplot' is one of the built-in style\n",
    "# You can also search for other style packages to use. For instance, we can also use \"seaborn\" style.\n",
    "plt.style.use('ggplot')\n",
    "#plt.style.use('seaborn')"
   ]
  },
  {
   "cell_type": "code",
   "execution_count": null,
   "metadata": {},
   "outputs": [],
   "source": [
    "# Now let's create the graph using plot()\n",
    "# plot() by default creates line plot.\n",
    "plt.plot(years, co2)"
   ]
  },
  {
   "cell_type": "code",
   "execution_count": null,
   "metadata": {},
   "outputs": [],
   "source": [
    "# You can also get scatterplot by change the marker shape.\n",
    "# 'b'    # blue markers with default shape\n",
    "# 'or'   # red circles\n",
    "# '-g'   # green solid line\n",
    "# '--'   # dashed line with default color\n",
    "# '^k:'  # black triangle_up markers connected by a dotted line\n",
    "# The full list of format can be found here \n",
    "# https://matplotlib.org/stable/api/_as_gen/matplotlib.pyplot.plot.html#matplotlib.pyplot.plot\n",
    "plt.plot(years, co2, '^k:')"
   ]
  },
  {
   "cell_type": "code",
   "execution_count": null,
   "metadata": {},
   "outputs": [],
   "source": [
    "# plt also has a scatter function to create scatterplots.\n",
    "plt.scatter(years, co2)"
   ]
  },
  {
   "cell_type": "code",
   "execution_count": null,
   "metadata": {},
   "outputs": [],
   "source": [
    "# Now make the graph to look better.\n",
    "# Label the line\n",
    "plt.plot(years, co2, label = 'CO2')\n",
    "plt.legend() # show the legend\n",
    "\n",
    "# Label the axes\n",
    "plt.xlabel('Year')\n",
    "plt.ylabel(USAco2['IndicatorName'].iloc[0])\n",
    "\n",
    "# Label the figure\n",
    "plt.title('CO2 Emissions in USA')\n",
    "\n",
    "# Set axis limits. The list of numbers maps to [xmin, xmax, ymin, ymax] by default\n",
    "plt.axis([1959,2011,15,25])"
   ]
  },
  {
   "cell_type": "code",
   "execution_count": null,
   "metadata": {},
   "outputs": [],
   "source": [
    "# If coding in a script, you may use plt.show() to display plots.\n",
    "# It is suggested that plt.show() should be used only once per Python session, usually the very end of the script.\n",
    "# We do not need this in the Notebook\n",
    "# plt.show()"
   ]
  },
  {
   "cell_type": "markdown",
   "metadata": {},
   "source": [
    "### observations from the line graph:\n",
    "1. CO2 emission jumped during the 60s and topped at early 70s.\n",
    "2. It started to drop from late 70s.\n",
    "3. It remained stable with small peaks.\n",
    "4. It dropped significantly from 2008 to 2009."
   ]
  },
  {
   "cell_type": "code",
   "execution_count": null,
   "metadata": {},
   "outputs": [],
   "source": [
    "# We can compare other countries with the US by adding other lines\n",
    "# I will leave this to you to figure out"
   ]
  },
  {
   "cell_type": "code",
   "execution_count": null,
   "metadata": {},
   "outputs": [],
   "source": [
    "# A barplot also works \n",
    "plt.bar(years,co2)\n",
    "\n",
    "# Add details"
   ]
  },
  {
   "cell_type": "markdown",
   "metadata": {},
   "source": [
    "### 2. The distributions of a continuous variable: Histograms\n",
    "What does the distribution look like for CO2 emissions?"
   ]
  },
  {
   "cell_type": "code",
   "execution_count": null,
   "metadata": {},
   "outputs": [],
   "source": [
    "co2.describe()"
   ]
  },
  {
   "cell_type": "code",
   "execution_count": null,
   "metadata": {},
   "outputs": [],
   "source": [
    "# A histogram is a graph for a single variable. So we only need one set of values: the variable we explore\n",
    "plt.hist(co2,facecolor='green')\n",
    "# By default the number of bins is 10. "
   ]
  },
  {
   "cell_type": "code",
   "execution_count": null,
   "metadata": {},
   "outputs": [],
   "source": [
    "# You may specify the bins with a list, e.g.[14, 16, 18, 20, 22, 24] \n",
    "# or a range, range(14, 23, 2)\n",
    "plt.hist(co2, bins = range(14, 24), facecolor='green')"
   ]
  },
  {
   "cell_type": "code",
   "execution_count": null,
   "metadata": {},
   "outputs": [],
   "source": [
    "# We can refine the look of the graph by adding components.\n",
    "plt.hist(co2, bins = range(14, 24), facecolor='green')\n",
    "plt.xlabel(USAco2['IndicatorName'].iloc[0])\n",
    "plt.ylabel('# of years')\n",
    "plt.title('CO2 Histogram')\n",
    "#plt.yticks(np.arange(0, 20, 2))"
   ]
  },
  {
   "cell_type": "markdown",
   "metadata": {},
   "source": [
    "### How do the USA's numbers relate to those of other countries?"
   ]
  },
  {
   "cell_type": "code",
   "execution_count": null,
   "metadata": {},
   "outputs": [],
   "source": [
    "# This is a comparison across countries\n",
    "# One way is to make a line for each country. Consider we have more than 240 countries (regions), it will be a mess.\n",
    "# So the solution is to select a limited number of countries for the comparison.\n",
    "\n",
    "# Another choice is to select all countries for one year and see where the US falls in the distribution\n",
    "# That means, we need to describe the distribution of co2 emissions. A histogram is the choice.\n",
    "\n",
    "# Select CO2 emissions for all countries in 2011\n",
    "hist_indicator='CO2 emissions \\(metric'\n",
    "hist_year=2011\n",
    "\n",
    "mask1 = world['IndicatorName'].str.contains(hist_indicator)\n",
    "mask2=world['Year'].isin([hist_year])\n",
    "\n",
    "# apply our mask\n",
    "co2_2011 = world[mask1 & mask2]\n",
    "co2_2011.head()"
   ]
  },
  {
   "cell_type": "markdown",
   "metadata": {},
   "source": [
    "For how many countries do we have CO2 per capita emissions data in 2011"
   ]
  },
  {
   "cell_type": "code",
   "execution_count": null,
   "metadata": {},
   "outputs": [],
   "source": [
    "print(len(co2_2011))"
   ]
  },
  {
   "cell_type": "code",
   "execution_count": null,
   "metadata": {
    "scrolled": true
   },
   "outputs": [],
   "source": [
    "# let's plot a histogram of the emmissions per capita by country\n",
    "plt.hist(co2_2011['Value'],10,facecolor='green')\n",
    "\n",
    "plt.xlabel(co2_2011['IndicatorName'].iloc[0])\n",
    "plt.ylabel('# of Countries')\n",
    "plt.title('CO2 histogram over countries')\n",
    "\n",
    "# To highlight the US, we can make an annotation on the graph\n",
    "plt.annotate('USA',xy=(18,5),xycoords='data',\n",
    "            xytext=(18,30),textcoords='data',\n",
    "            arrowprops=dict(facecolor='black', shrink=0.05)\n",
    "            )"
   ]
  },
  {
   "cell_type": "markdown",
   "metadata": {},
   "source": [
    "All plots above we use the MATLAB-style interface. The object-oriented interface is available for more complicated situations, and for when you want more control over your figure.<br>\n",
    "The figure (an instance of the class plt.Figure) can be thought of as a single container that contains all the objects representing axes, graphics, text, and labels. <br>\n",
    "The axes (an instance of the class plt.Axes) is a bounding box with ticks and labels, which will eventually contain the plot elements that make up our visualization. We'll commonly use the variable name fig to refer to a figure instance, and ax to refer to an axes instance or group of axes instances.<br>\n",
    "-----From the book \"Python Data Science Handbook\"."
   ]
  },
  {
   "cell_type": "code",
   "execution_count": null,
   "metadata": {},
   "outputs": [],
   "source": [
    "# Object-oriented interface\n",
    "fig = plt.figure()\n",
    "ax = plt.axes()\n",
    "\n",
    "ax.hist(co2_2011['Value'],facecolor='green')\n",
    "\n",
    "ax.set_xlabel(co2_2011['IndicatorName'].iloc[0])\n",
    "ax.set_ylabel('# of Countries')\n",
    "ax.set_title('CO2 histogram over countries')\n",
    "\n",
    "ax.annotate('USA',xy=(18,5),xycoords='data',\n",
    "            xytext=(18,30),textcoords='data',\n",
    "            arrowprops=dict(facecolor='black', shrink=0.05)\n",
    "           )\n",
    "ax.grid(True)"
   ]
  },
  {
   "cell_type": "code",
   "execution_count": null,
   "metadata": {},
   "outputs": [],
   "source": [
    "# Save the figure\n",
    "fig.savefig('co2hist.jpeg')\n",
    "fig.canvas.get_supported_filetypes()"
   ]
  },
  {
   "cell_type": "code",
   "execution_count": null,
   "metadata": {},
   "outputs": [],
   "source": [
    "# fig and ax can be created togther using subplots()\n",
    "fig,ax=plt.subplots()\n",
    "\n",
    "# ax.set() function\n",
    "ax.hist(co2_2011['Value'],facecolor='green')\n",
    "\n",
    "ax.set(xlabel=(co2_2011['IndicatorName'].iloc[0]),\n",
    "       ylabel='# of Countries',\n",
    "       title='CO2 histogram over countries')\n",
    "\n",
    "ax.grid(True)"
   ]
  },
  {
   "cell_type": "markdown",
   "metadata": {},
   "source": [
    "## Conclusion: \n",
    "The US, at ~18 CO2 emissions (metric tons per capital) is quite high among all countries."
   ]
  },
  {
   "cell_type": "markdown",
   "metadata": {},
   "source": [
    "### 3. Explore the relationship between GDP and CO2 Emissions in USA"
   ]
  },
  {
   "cell_type": "code",
   "execution_count": null,
   "metadata": {},
   "outputs": [],
   "source": [
    "# select GDP Per capita emissions for the United States\n",
    "hist_indicator='GDP per capita \\(constant 2005'\n",
    "hist_country='USA'\n",
    "\n",
    "mask1=world['IndicatorName'].str.contains(hist_indicator)\n",
    "mask2=world['CountryCode'].str.contains(hist_country)\n",
    "\n",
    "USAgdp=world[mask1 & mask2]"
   ]
  },
  {
   "cell_type": "code",
   "execution_count": null,
   "metadata": {},
   "outputs": [],
   "source": [
    "USAgdp.head(2)"
   ]
  },
  {
   "cell_type": "code",
   "execution_count": null,
   "metadata": {},
   "outputs": [],
   "source": [
    "USAco2.head(2)"
   ]
  },
  {
   "cell_type": "code",
   "execution_count": null,
   "metadata": {},
   "outputs": [],
   "source": [
    "# Check the trend of GDP over the years.\n",
    "gdp=USAgdp['Value'].values\n",
    "years=USAgdp['Year'].values\n",
    "plt.plot(years, gdp, 'o')\n",
    "\n",
    "# Label the axes\n",
    "\n",
    "\n",
    "#label the figure\n",
    "\n",
    "\n",
    "# to make it more honest, start the y axis at 0\n",
    "plt.axis([1959,2011,0,50000])"
   ]
  },
  {
   "cell_type": "code",
   "execution_count": null,
   "metadata": {},
   "outputs": [],
   "source": []
  },
  {
   "cell_type": "markdown",
   "metadata": {},
   "source": [
    "So although we've seen a decline in the CO2 emissions per capita, it does not seem to translate to a decline in GDP per capita"
   ]
  },
  {
   "cell_type": "markdown",
   "metadata": {},
   "source": [
    "### ScatterPlot is to explore the relationship between two numerical variables. \n",
    "First, we'll need to make sure we're looking at the same time frames"
   ]
  },
  {
   "cell_type": "code",
   "execution_count": null,
   "metadata": {},
   "outputs": [],
   "source": [
    "#Do the two indicators match?\n",
    "print(\"GDP Min Year:\",USAgdp['Year'].min(), \"Max\", USAgdp['Year'].max())\n",
    "print(\"Co2 Min Year:\",USAco2['Year'].min(), \"Max\", USAco2['Year'].max())"
   ]
  },
  {
   "cell_type": "markdown",
   "metadata": {},
   "source": [
    "We have 3 extra years of GDP data, so let's trim those off so the scatterplot has equal length arrays to compare (this is actually required by scatterplot)"
   ]
  },
  {
   "cell_type": "code",
   "execution_count": null,
   "metadata": {},
   "outputs": [],
   "source": [
    "USAgdp_trunc=USAgdp[USAgdp['Year']<2012]\n",
    "len(USAgdp_trunc)\n",
    "len(USAco2)"
   ]
  },
  {
   "cell_type": "code",
   "execution_count": null,
   "metadata": {
    "scrolled": false
   },
   "outputs": [],
   "source": [
    "fig,ax=plt.subplots()\n",
    "\n",
    "X=USAgdp_trunc['Value']\n",
    "Y=USAco2['Value']\n",
    "ax.scatter(X,Y)"
   ]
  },
  {
   "cell_type": "markdown",
   "metadata": {},
   "source": [
    "This doesn't look like a strong relationship.  We can test this by looking at correlation."
   ]
  },
  {
   "cell_type": "code",
   "execution_count": null,
   "metadata": {},
   "outputs": [],
   "source": [
    "# Correlation between two variables\n",
    "np.corrcoef(USAgdp_trunc['Value'],USAco2['Value'])"
   ]
  },
  {
   "cell_type": "markdown",
   "metadata": {},
   "source": [
    "A correlation of 0.07 is pretty weak.\n",
    "However, it seems that when GDP is in the lower range, say 15000 - 25000, there is a strong correlation.\n",
    "This explorative finding would suggest that you may want to use step functions, splines or other more advanced models than a simple linear regression when you want to use GDP to predict CO2 emission.\n",
    "\n",
    "You could continue to explore this to see if other countries have a closer relationship between CO2 emissions and GDP.  Perhaps it is stronger for developing countries?"
   ]
  },
  {
   "cell_type": "code",
   "execution_count": null,
   "metadata": {},
   "outputs": [],
   "source": [
    "#Excercise: find the relationship between GDP and CO2 emission for a developing country\n"
   ]
  },
  {
   "cell_type": "code",
   "execution_count": null,
   "metadata": {},
   "outputs": [],
   "source": [
    "# Scatterplot with more dimensions; size and color can represent variables\n",
    "from sklearn.datasets import load_iris\n",
    "iris = load_iris()\n",
    "features = iris.data.T\n",
    "\n",
    "plt.scatter(features[0], features[1], alpha=0.2,\n",
    "            s=100*features[3], c=iris.target, cmap='viridis')\n",
    "plt.xlabel(iris.feature_names[0])\n",
    "plt.ylabel(iris.feature_names[1])"
   ]
  }
 ],
 "metadata": {
  "kernelspec": {
   "display_name": "Python 3",
   "language": "python",
   "name": "python3"
  },
  "language_info": {
   "codemirror_mode": {
    "name": "ipython",
    "version": 3
   },
   "file_extension": ".py",
   "mimetype": "text/x-python",
   "name": "python",
   "nbconvert_exporter": "python",
   "pygments_lexer": "ipython3",
   "version": "3.8.8"
  }
 },
 "nbformat": 4,
 "nbformat_minor": 2
}
