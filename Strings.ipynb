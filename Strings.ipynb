{
 "cells": [
  {
   "cell_type": "markdown",
   "metadata": {
    "collapsed": true
   },
   "source": [
    "# Programming for Business Analytics (Python)"
   ]
  },
  {
   "cell_type": "markdown",
   "metadata": {},
   "source": [
    "### In this session, we will learn more about strings.\n",
    "    Useful string methods\n",
    "    Pattern matching with regular expressions"
   ]
  },
  {
   "cell_type": "code",
   "execution_count": 1,
   "metadata": {},
   "outputs": [],
   "source": [
    "# This code appears in every demonstration Notebook.\n",
    "# By default, when you run each cell, only the last output of the codes will show.\n",
    "# This code makes all outputs of a cell show.\n",
    "from IPython.core.interactiveshell import InteractiveShell\n",
    "InteractiveShell.ast_node_interactivity = \"all\""
   ]
  },
  {
   "cell_type": "markdown",
   "metadata": {},
   "source": [
    "### Useful string methods\n",
    "    We work with strings all the time. Python provides many useful methods. For a complete list of the methods, you may go to https://www.w3schools.com/python/python_ref_string.asp."
   ]
  },
  {
   "cell_type": "code",
   "execution_count": null,
   "metadata": {
    "scrolled": true
   },
   "outputs": [],
   "source": [
    "# Strings may contain digits, letters and other characters. Sometimes we need to separate them or treat them differently.\n",
    "# isX methods can help with that.\n",
    "# isalpha(): check whether the string contains only letter. \n",
    "# isdigit(), isdecimal(), isnumeric(): check whether the string contains only digits. These three are different only in very rare cases.\n",
    "# isalnum(): check whether the string contains only letter.\n",
    "while True:\n",
    "    print(\"Create a new password (letters and numbers only)\")\n",
    "    userpw = input()\n",
    "    if userpw.isalnum():\n",
    "        break\n",
    "    print(\"Passwords can only have letters and numbers.\")"
   ]
  },
  {
   "cell_type": "code",
   "execution_count": 4,
   "metadata": {},
   "outputs": [
    {
     "data": {
      "text/plain": [
       "False"
      ]
     },
     "execution_count": 4,
     "metadata": {},
     "output_type": "execute_result"
    },
    {
     "data": {
      "text/plain": [
       "False"
      ]
     },
     "execution_count": 4,
     "metadata": {},
     "output_type": "execute_result"
    },
    {
     "data": {
      "text/plain": [
       "True"
      ]
     },
     "execution_count": 4,
     "metadata": {},
     "output_type": "execute_result"
    },
    {
     "name": "stdout",
     "output_type": "stream",
     "text": [
      "apple APPLE\n"
     ]
    }
   ],
   "source": [
    "# Sometimes we need to check uppercase and lowercase of strings\n",
    "# islower(), isupper(), istitle()\n",
    "myStr = 'Apple'\n",
    "myStr.islower()\n",
    "myStr.isupper()\n",
    "myStr.istitle()\n",
    "\n",
    "# Correspondingly, lower(), upper(), title() to change cases.\n",
    "myStr1 = myStr.lower()\n",
    "myStr2 = myStr.upper()\n",
    "print(myStr1, myStr2)\n",
    "\n",
    "# These methods give flexibility to content match. For instance, if a variable can take either uppercase or lowercase, use \n",
    "# lower() to turn all inputs to lowercase before content match."
   ]
  },
  {
   "cell_type": "code",
   "execution_count": null,
   "metadata": {},
   "outputs": [],
   "source": [
    "# We often need to search strings using certain criteria. There are some functions can help.\n",
    "# For instance, startswith() and endswith()\n",
    "# For example, our data has a price column, where some prices are recorded as \"$500\", which turns numerical price into a string.\n",
    "# We need to turn them into numerical values.\n",
    "def money(amount):\n",
    "    if amount.startswith(\"$\"):\n",
    "        amount = int(amount.strip(\"$\")) # strip() function removes the specified character from the beginning and the end.\n",
    "    else:\n",
    "        amount = int(amount)\n",
    "    return amount\n",
    "x = money(\"$56\")\n",
    "x"
   ]
  },
  {
   "cell_type": "code",
   "execution_count": null,
   "metadata": {},
   "outputs": [],
   "source": [
    "# challenge: change this money() to a lambda function\n",
    "moneylbd = lambda x: int(x.strip('$')) if x.startswith('$') else int(x)\n",
    "moneylbd('$78')"
   ]
  },
  {
   "cell_type": "code",
   "execution_count": 11,
   "metadata": {},
   "outputs": [
    {
     "name": "stdout",
     "output_type": "stream",
     "text": [
      "banana\n"
     ]
    }
   ],
   "source": [
    "# lstrip() removes at the beginning, rstrip() removes at the end.\n",
    "# You can specify a set of characters to remove.\n",
    "testStr = \",,,,,ssaaww.....banana\"\n",
    "\n",
    "cleanStr = testStr.lstrip(\",.asw\")\n",
    "\n",
    "print(cleanStr)"
   ]
  },
  {
   "cell_type": "code",
   "execution_count": 12,
   "metadata": {},
   "outputs": [
    {
     "data": {
      "text/plain": [
       "'1--2--3--4--5'"
      ]
     },
     "execution_count": 12,
     "metadata": {},
     "output_type": "execute_result"
    }
   ],
   "source": [
    "# We are familiar with split() which turns a string into a list. There is also join() to turn an iterable into a string.\n",
    "# For example,\n",
    "myList = [1,2,3,4,5]\n",
    "#'..'.join(myList) # This will return errors. Cannot join numbers.\n",
    "newList = [str(i) for i in myList]\n",
    "'--'.join(newList)\n",
    "\n",
    "# A string is also an iterable."
   ]
  },
  {
   "cell_type": "markdown",
   "metadata": {},
   "source": [
    "### Pattern matching with regular expressions\n",
    "String searching is probably one of the most common operations we would encounter. A regular expression is a sequence of characters that specifies a pattern for search. It has specific, standard textual syntax for representing patterns for matching text. Characters in a regular expression is either a metacharacter, having a special meaning, or a regular character that has a literal meaning.<br>\n",
    "    Programming languages usually have functions to find or find and replace the strings that matches the regular expression. In Python, the functions are provided with the package 're'."
   ]
  },
  {
   "cell_type": "code",
   "execution_count": 2,
   "metadata": {},
   "outputs": [],
   "source": [
    "#Find phone number in the format of XXX-XXX-XXXX\n",
    "message = \"Call me at 415-555-1011 tomorrow. 415-555-9999 is my office number.\"\n",
    "\n",
    "def isPhoneNumber(text):\n",
    "    if len(text) != 12:\n",
    "        return False\n",
    "    for i in range(3):\n",
    "        if not text[i].isnumeric():\n",
    "            return False\n",
    "    if text[3] != '-':\n",
    "        return False\n",
    "    for i in range(4,7):\n",
    "        if not text[i].isnumeric():\n",
    "            return False\n",
    "    if text[7] != '-':\n",
    "        return False\n",
    "    for i in range(8,12):\n",
    "        if not text[i].isnumeric():\n",
    "            return False\n",
    "    return True"
   ]
  },
  {
   "cell_type": "code",
   "execution_count": 3,
   "metadata": {},
   "outputs": [
    {
     "name": "stdout",
     "output_type": "stream",
     "text": [
      "['415-555-1011', '415-555-9999']\n"
     ]
    }
   ],
   "source": [
    "# To find phone numbers in a string using the isPhoneNumber function\n",
    "\n",
    "phonenums = []\n",
    "\n",
    "for i in range(len(message)):\n",
    "    chunk = message[i:i+12]\n",
    "    if isPhoneNumber(chunk):\n",
    "        phonenums.append(chunk)\n",
    "        \n",
    "print(phonenums)"
   ]
  },
  {
   "cell_type": "code",
   "execution_count": 4,
   "metadata": {},
   "outputs": [
    {
     "data": {
      "text/plain": [
       "['415-555-1011', '415-555-9999']"
      ]
     },
     "execution_count": 4,
     "metadata": {},
     "output_type": "execute_result"
    }
   ],
   "source": [
    "# If we use regular expressions.\n",
    "# We first import re package.\n",
    "import re\n",
    "\n",
    "# Create the regular expression object using compile()\n",
    "# The pattern: three digits - dash - three digits - dash - four digits.\n",
    "# r'' refers to raw string, which will not be interpreted by Python with special meanings.\n",
    "# \\d for digits, \\s for space, \\w for letter, digit or the underscore\n",
    "# The uppercase \\D, \\W, |S means anything but the set meant with lowercase.\n",
    "phoneNumRegex = re.compile(r'\\d\\d\\d-\\d\\d\\d-\\d\\d\\d\\d')\n",
    "\n",
    "# Use findall() function to find all matched strings. They will be returned as a list.\n",
    "numlist = phoneNumRegex.findall(message)\n",
    "numlist"
   ]
  },
  {
   "cell_type": "code",
   "execution_count": 5,
   "metadata": {},
   "outputs": [
    {
     "data": {
      "text/plain": [
       "['12 drummers',\n",
       " '11 pipers',\n",
       " '10 lords',\n",
       " '9 ladies',\n",
       " '8 maids',\n",
       " '7 swans',\n",
       " '6 geese',\n",
       " '5 rings',\n",
       " '4 birds',\n",
       " '3 hens',\n",
       " '2 doves',\n",
       " '1 patridge']"
      ]
     },
     "execution_count": 5,
     "metadata": {},
     "output_type": "execute_result"
    }
   ],
   "source": [
    "itemList = \"12 drummers, 11 pipers, 10 lords, 9 ladies, 8 maids, 7 swans,\\\n",
    "6 geese, 5 rings, 4 birds, 3 hens, 2 doves, 1 patridge\"\n",
    "\n",
    "# The pattern: digits-space-letters\n",
    "# The number of digits and letters is flexible.\n",
    "# Metacharacters with the special meanings are needed.\n",
    "xmasRegex = re.compile(r'\\d+\\s\\w+')\n",
    "xmasRegex.findall(itemList)\n",
    "\n",
    "# The ? matches zero or one of the preceding group.\n",
    "# The * matches zero or more of the preceding group.\n",
    "# The + matches one or more of the preceding group.\n",
    "# The {n} matches exactly n of the preceding group.\n",
    "# The {n,} matches n or more of the preceding group.\n",
    "# The {,m} matches 0 to m of the preceding group.\n",
    "# The {n,m} matches at least n and at most m of the preceding group."
   ]
  },
  {
   "cell_type": "code",
   "execution_count": 6,
   "metadata": {},
   "outputs": [
    {
     "data": {
      "text/plain": [
       "['415-', '']"
      ]
     },
     "execution_count": 6,
     "metadata": {},
     "output_type": "execute_result"
    }
   ],
   "source": [
    "# The ways people keep phone numbers can be flexible. For example, the area code is optional.\n",
    "message1 = \"Call me at 415-555-1011 tomorrow. 555-9999 is my office number.\"\n",
    "\n",
    "# The regular expression can specify the part is optional. Optional means the occurrence of the part can be either 0 or 1.\n",
    "# First, we need to put the optional part into a group using ()\n",
    "\n",
    "phoneNumRegex = re.compile(r'(\\d\\d\\d-)?\\d\\d\\d-\\d\\d\\d\\d')\n",
    "numlist = phoneNumRegex.findall(message1)\n",
    "numlist\n",
    "\n",
    "# The ? matches zero or one of the preceding group.\n",
    "# The * matches zero or more of the preceding group.\n",
    "# The + matches one or more of the preceding group.\n",
    "# The {n} matches exactly n of the preceding group.\n",
    "# The {n,} matches n or more of the preceding group.\n",
    "# The {,m} matches 0 to m of the preceding group.\n",
    "# The {n,m} matches at least n and at most m of the preceding group."
   ]
  },
  {
   "cell_type": "code",
   "execution_count": 8,
   "metadata": {
    "scrolled": true
   },
   "outputs": [
    {
     "data": {
      "text/plain": [
       "[('415-', '555-', '1011'), ('', '555-', '9999')]"
      ]
     },
     "execution_count": 8,
     "metadata": {},
     "output_type": "execute_result"
    }
   ],
   "source": [
    "# Once groups are specified, findall() function will search for groups only.\n",
    "# We put all parts into groups. findall() returned all found groups in a tuple\n",
    "phoneNumRegex1 = re.compile(r'(\\d\\d\\d-)?(\\d\\d\\d-)(\\d\\d\\d\\d)')\n",
    "numlist = phoneNumRegex1.findall(message1)\n",
    "numlist\n",
    "# How can we get the output as phone numbers?"
   ]
  },
  {
   "cell_type": "code",
   "execution_count": 9,
   "metadata": {},
   "outputs": [
    {
     "data": {
      "text/plain": [
       "'415-'"
      ]
     },
     "execution_count": 9,
     "metadata": {},
     "output_type": "execute_result"
    },
    {
     "data": {
      "text/plain": [
       "'555-'"
      ]
     },
     "execution_count": 9,
     "metadata": {},
     "output_type": "execute_result"
    },
    {
     "data": {
      "text/plain": [
       "'415-555-1011'"
      ]
     },
     "execution_count": 9,
     "metadata": {},
     "output_type": "execute_result"
    }
   ],
   "source": [
    "# With groups, search() function will find the first matched set of groups.\n",
    "mo = phoneNumRegex1.search(message1)\n",
    "mo.group(1)\n",
    "mo.group(2)\n",
    "mo.group()"
   ]
  },
  {
   "cell_type": "code",
   "execution_count": 10,
   "metadata": {},
   "outputs": [
    {
     "data": {
      "text/plain": [
       "['(415) 555-1011', '(415) 555-9999']"
      ]
     },
     "execution_count": 10,
     "metadata": {},
     "output_type": "execute_result"
    }
   ],
   "source": [
    "# We can keep adding flexibility to the phone number format.\n",
    "# What if the format is (415) 555-4242?\n",
    "message2 = \"Call me at (415) 555-1011 tomorrow. (415) 555-9999 is my 555-6789 office number.\"\n",
    "phoneNumRegex2 = re.compile(r'\\(\\d{3}\\) \\d{3}-\\d{4}')\n",
    "numlist = phoneNumRegex2.findall(message2)\n",
    "numlist"
   ]
  },
  {
   "cell_type": "code",
   "execution_count": 29,
   "metadata": {},
   "outputs": [
    {
     "data": {
      "text/plain": [
       "['cat', 'hat', 'sat', 'lat', 'mat']"
      ]
     },
     "execution_count": 29,
     "metadata": {},
     "output_type": "execute_result"
    }
   ],
   "source": [
    "# '.' as wildcard character, which means it can be character to match.\n",
    "atRegex = re.compile(r'.at')\n",
    "atRegex.findall(\"The cat in the hat sat on the flat mat.\")"
   ]
  },
  {
   "cell_type": "code",
   "execution_count": 11,
   "metadata": {},
   "outputs": [
    {
     "data": {
      "text/plain": [
       "[('Messi', 'Messi'), ('Right', 'Left'), ('Ling', 'Ge')]"
      ]
     },
     "execution_count": 11,
     "metadata": {},
     "output_type": "execute_result"
    }
   ],
   "source": [
    "# Sometimes we would like to search for all strings within a context.\n",
    "# For example, all names that are listed with \"First Name: XXX Last Name: XXX\"\n",
    "names = '''\n",
    "First Name: Messi Last Name: Messi\n",
    "First Name: Right Last Name: Left\n",
    "First Name: Ling Last Name: Ge\n",
    "'''\n",
    "nameRegex = re.compile(r'First Name: (.*) Last Name: (.*)')\n",
    "nameList = nameRegex.findall(names)\n",
    "nameList\n",
    "#mo = nameRegex.search(\"First Name: Ling Last Name: Ge\")\n",
    "#mo.group()\n",
    "#mo.group(1)\n",
    "#mo.group(2)\n",
    "#nameRegex.findall(\"First Name: Ling Last Name: Ge\")"
   ]
  },
  {
   "cell_type": "code",
   "execution_count": 13,
   "metadata": {},
   "outputs": [
    {
     "data": {
      "text/plain": [
       "'Robocop'"
      ]
     },
     "execution_count": 13,
     "metadata": {},
     "output_type": "execute_result"
    }
   ],
   "source": [
    "#re.I to make regex case-insensitive\n",
    "robocop = re.compile(r'robocop', re.I)\n",
    "robocop.search('Robocop is scary').group()"
   ]
  },
  {
   "cell_type": "code",
   "execution_count": 14,
   "metadata": {},
   "outputs": [
    {
     "data": {
      "text/plain": [
       "'CENSORED gave the document to CENSORED.'"
      ]
     },
     "execution_count": 14,
     "metadata": {},
     "output_type": "execute_result"
    }
   ],
   "source": [
    "# sub() to replace the searched pattern\n",
    "namesRegex = re.compile(r'Agent \\w+')\n",
    "namesRegex.sub('CENSORED', 'Agent Alice gave the document to Agent Bob.')"
   ]
  },
  {
   "cell_type": "code",
   "execution_count": 34,
   "metadata": {},
   "outputs": [
    {
     "data": {
      "text/plain": [
       "[('415-555-8789 ext 555', '415', '-', '555', '-', '8789', ' ext 555', 'ext')]"
      ]
     },
     "execution_count": 34,
     "metadata": {},
     "output_type": "execute_result"
    }
   ],
   "source": [
    "#re.VERBOSE to ignore comments and whitespace\n",
    "phoneRegexfull = re.compile(r'''(\n",
    "      (\\d{3}|\\(\\d{3}\\))? # area code can be optional\n",
    "      (\\s|-|\\.) # separator\n",
    "      (\\d{3}) # first three digits\n",
    "      (\\s|-|\\.) # separator\n",
    "      (\\d{4}) # last 4 digits\n",
    "      (\\s*(ext|x)\\s*\\d{2,5})? # extension\n",
    "                        )''', re.VERBOSE)\n",
    "# re.VERBOSE is to allow multiple-line regular expressions\n",
    "phoneRegexfull.findall(\"Call me at 415-555-8789 ext 555\")\n",
    "# (415).555.8789\n",
    "# 415.555.8789\n",
    "# 415-555-8789"
   ]
  },
  {
   "cell_type": "code",
   "execution_count": 16,
   "metadata": {},
   "outputs": [
    {
     "data": {
      "text/plain": [
       "['Batman', 'Batwoman']"
      ]
     },
     "execution_count": 16,
     "metadata": {},
     "output_type": "execute_result"
    }
   ],
   "source": [
    "bat = 'Batman is Bruce Wayne. Batwoman is Babara Gordon.'\n",
    "batRegex = re.compile(r'bat.{0,2}man', re.I)\n",
    "bathuman = batRegex.findall(bat)\n",
    "bathuman"
   ]
  }
 ],
 "metadata": {
  "kernelspec": {
   "display_name": "Python 3",
   "language": "python",
   "name": "python3"
  },
  "language_info": {
   "codemirror_mode": {
    "name": "ipython",
    "version": 3
   },
   "file_extension": ".py",
   "mimetype": "text/x-python",
   "name": "python",
   "nbconvert_exporter": "python",
   "pygments_lexer": "ipython3",
   "version": "3.7.3"
  }
 },
 "nbformat": 4,
 "nbformat_minor": 2
}
