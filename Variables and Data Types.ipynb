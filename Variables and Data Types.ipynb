{
 "cells": [
  {
   "cell_type": "markdown",
   "metadata": {
    "collapsed": true
   },
   "source": [
    "# Programming for Data Science (Python)"
   ]
  },
  {
   "cell_type": "markdown",
   "metadata": {},
   "source": [
    "### In this Notebook, we will learn about\n",
    "    a. Variables\n",
    "    b. Different data types\n",
    "    c. Operations associated with each data type"
   ]
  },
  {
   "cell_type": "code",
   "execution_count": 1,
   "metadata": {},
   "outputs": [],
   "source": [
    "# This code appears in every demonstration Notebook.\n",
    "# By default, when you run each cell, only the last output of the codes will show.\n",
    "# This code makes all outputs of a cell show.\n",
    "from IPython.core.interactiveshell import InteractiveShell\n",
    "InteractiveShell.ast_node_interactivity = \"all\""
   ]
  },
  {
   "cell_type": "markdown",
   "metadata": {},
   "source": [
    "## Variables\n",
    "### 1. Define a variable"
   ]
  },
  {
   "cell_type": "code",
   "execution_count": null,
   "metadata": {},
   "outputs": [],
   "source": [
    "# You can think variables as placeholders, or boxes. Each box can hold a value, which can be changed anywhere in the program.\n",
    "# Variables are defined with assignment statement\n",
    "# Such a statement starts with a variable name, followed with an equal sign and the value you want to give to the variable\n",
    "# For example:\n",
    "myName = \"Ling\" # string\n",
    "myAge = 60 # number\n",
    "myInterests = ['art', 'music', 'books'] # list\n",
    "myDemo = {'name': \"Ling\", 'age': 60, 'degree': 'PhD'} # dictionary"
   ]
  },
  {
   "cell_type": "code",
   "execution_count": null,
   "metadata": {},
   "outputs": [],
   "source": [
    "# Assigned value can be the output of a function. For example:\n",
    "myName = input(\"Please tell me your name: \")\n",
    "print(\"Hello\", myName)"
   ]
  },
  {
   "cell_type": "code",
   "execution_count": null,
   "metadata": {},
   "outputs": [],
   "source": [
    "# When a variable is assigned a new value, the old value is forgotten.\n",
    "# What is the output of the following code?\n",
    "myAge = 60\n",
    "myAge = 45\n",
    "print(myAge)"
   ]
  },
  {
   "cell_type": "markdown",
   "metadata": {},
   "source": [
    "### 2. Variable names\n",
    "     a. variable names can only contains letters, numbers and \"_\"\n",
    "\n",
    "     b. Case matters\n",
    "\n",
    "     c. Don't use generic names, especially reserved function names"
   ]
  },
  {
   "cell_type": "code",
   "execution_count": null,
   "metadata": {},
   "outputs": [],
   "source": [
    "# variable name can only contains letters, numbers and \"_\"\n",
    "# Are these valid variable names?\n",
    "\n",
    "# 7up = 'drink' # variable name cannot start with numbers\n",
    "# var%var = 7 # variable name cannot have characters other than letters, numbers and \"_\"\n",
    "# _time_status_ = 'over' # This a valid variable name."
   ]
  },
  {
   "cell_type": "code",
   "execution_count": null,
   "metadata": {},
   "outputs": [],
   "source": [
    "# Case matters\n",
    "currentbalance = 1000\n",
    "CurrentBalance = 900\n",
    "print(currentbalance)\n",
    "currentbalance != CurrentBalance\n",
    "# Therefore, being consistent with naming conventions can help. Multiple-word names: capitalizing from the second word\n",
    "# currentBalance, myAge, startTime, etc."
   ]
  },
  {
   "cell_type": "code",
   "execution_count": null,
   "metadata": {},
   "outputs": [],
   "source": [
    "# We do not use generic names as variable names, such as \"variable\", \"function\", or \"number\"\n",
    "# Do not use reserved function names. It will cause problems.\n",
    "'''\n",
    "int = 78 # the variable name is int.\n",
    "myAge = input(\"Your age: \")\n",
    "print(int(myAge))\n",
    "'''\n",
    "# Sensible names with certain meanings can help to better understand and maintain your program."
   ]
  },
  {
   "cell_type": "markdown",
   "metadata": {},
   "source": [
    "## Data Types\n",
    "    a. Type checking is done at runtime\n",
    "    b. No mixing operations between different types    "
   ]
  },
  {
   "cell_type": "code",
   "execution_count": null,
   "metadata": {},
   "outputs": [],
   "source": [
    "# Each variable has a type\n",
    "# All type checking is done at runtime: dynamically typed\n",
    "# No need to declare a variable or give it a type before use\n",
    "# What will be the output of the following code?\n",
    "x = 2\n",
    "x = 'changed to 3'\n",
    "print(x)"
   ]
  },
  {
   "cell_type": "code",
   "execution_count": null,
   "metadata": {},
   "outputs": [],
   "source": [
    "# To find out the data type of any variable, we can use type() function\n",
    "type(myDemo) # returns the datatype of the variable\n",
    "print(myDemo)"
   ]
  },
  {
   "cell_type": "code",
   "execution_count": null,
   "metadata": {},
   "outputs": [],
   "source": [
    "# No mixing operations between data types.\n",
    "# For example:\n",
    "x = 60\n",
    "y = 'sixty'\n",
    "x+y\n",
    "# Recall in our first program, if we tried to print the hello message with updated age in it:\n",
    "newAge = myAge + 1\n",
    "print(\"You will be \" + newAge + \" next year.\") # This will return error message because we mix strings with an integer."
   ]
  },
  {
   "cell_type": "code",
   "execution_count": null,
   "metadata": {},
   "outputs": [],
   "source": [
    "# Sometimes type conversion is necessary\n",
    "# For example, what we did in our first program is to cast the newAge into a string using type casting function\n",
    "str(newAge)\n",
    "# Then we can put it together with the strings.\n",
    "print(\"You will be \" + str(newAge) + \" next year.\")\n",
    "# We have a list of type casting functions. Please refer to the slides."
   ]
  },
  {
   "cell_type": "markdown",
   "metadata": {},
   "source": [
    "### Number\n",
    "    a. The errors in floats\n",
    "    b. Arithmetic operations"
   ]
  },
  {
   "cell_type": "code",
   "execution_count": null,
   "metadata": {},
   "outputs": [],
   "source": [
    "# A number is a numeric value;\n",
    "# Three main types: integer, float and complex\n",
    "\n",
    "# The precision of floats\n",
    "0.1+0.2 # This is a weird one; I have not found any other cases like this.\n",
    "0.1+0.3\n",
    "0.2+0.3\n",
    "\n",
    "# If it happens that you need to use 0.1+0.2 and want it to be precisely 0.3, how to solve the problem?\n",
    "0.1 + 0.2 == 0.3\n",
    "round(0.1+0.2, 2)\n",
    "# We can use the round function to eliminate the error."
   ]
  },
  {
   "cell_type": "code",
   "execution_count": null,
   "metadata": {},
   "outputs": [],
   "source": [
    "# Arithmetic operations are intuitive operations for numbers.\n",
    "# multiply, power, division, remainder, floor quotient, etc.\n",
    "8*5\n",
    "8/5\n",
    "8//5\n",
    "8%5\n",
    "-8//5\n",
    "\n",
    "# This formular is always true x == (x // y) * y + (x % y)\n",
    "(8//5)*5 + (8%5)\n",
    "\n",
    "# Please refer to the table in the slides for more operators.\n",
    "# What does divmod(x,y) do?\n",
    "divmod(8, 5)\n",
    "# The function returns two values at the same time: the floor quotient and the remainder."
   ]
  },
  {
   "cell_type": "code",
   "execution_count": null,
   "metadata": {},
   "outputs": [],
   "source": [
    "# Sometimes arithmetic operations can be very helpful.\n",
    "# Practice: There is flight data. The departure time is recorded as 1450 for 14:50. \n",
    "# How can we get hour and minutes from this type of departure time records?\n",
    "depTime = 1450\n",
    "hour = ?\n",
    "minutes = ?\n",
    "# hour = dptime//100; minutes = dptime % 100"
   ]
  },
  {
   "cell_type": "markdown",
   "metadata": {},
   "source": [
    "### String\n",
    "    a. Definition: quotes\n",
    "    b. Escape \"\\\"\n",
    "    c. Concatenation"
   ]
  },
  {
   "cell_type": "code",
   "execution_count": null,
   "metadata": {},
   "outputs": [],
   "source": [
    "# A string is a sequence of characters.\n",
    "# Single Quotes or Double Quotes to define a string. It is suggested to stick with on throughout a program.\n",
    "print('Python is powerful and easy to learn.')\n",
    "print(\"Data science is amazing.\")\n",
    "# Sometimes we use both to avoid confusion. For example, how to print 'Let's learn Python'?\n",
    "print('Let's learn Python')\n",
    "print(\"Let's learn Python\")\n",
    "# Triple quotes for multiple lines of text; we often use it to make long comments\n",
    "'''\n",
    "For there is always light\n",
    "If only we are brave enough to see it\n",
    "If only we are brave enough to be it\n",
    "'''"
   ]
  },
  {
   "cell_type": "code",
   "execution_count": null,
   "metadata": {},
   "outputs": [],
   "source": [
    "# Escape '\\' sign indicates the character after will 'escape' the default meaning/function it has in Python and\n",
    "# takes upon its original or special meanings.\n",
    "\n",
    "# For example: How to print \"Let's learn Python\"?\n",
    "print('Let\\'s learn python')\n",
    "# Escape '\\' in front of the single quote sign means the it will 'escape' its default function as indicators of strings,\n",
    "# and become a regular sign. So it can be printed as a regular sign.\n",
    "\n",
    "# How to print several lines of text?\n",
    "print('Hello\\nworld!\\nNew day!')\n",
    "# '\\n' has a special meaning: starting at new line; you can find a table for these escape characters in the slides\n",
    "\n",
    "# How to print a file directory with backslash '\\'?\n",
    "print('C:\\new\\numbers')\n",
    "print('C:\\\\new\\\\numbers') \n",
    "# The default meaning of \"\\\" is escape sign. To turn it back to a normal '\\' sign, we use escape in front of it,'\\\\'"
   ]
  },
  {
   "cell_type": "code",
   "execution_count": null,
   "metadata": {},
   "outputs": [],
   "source": [
    "# Concatenation\n",
    "# Use \"+\" to put strings together.\n",
    "print(myName + ' is ' + str(myAge) + '.')\n",
    "\n",
    "# Use '*' to repeat\n",
    "print(\"Hello \"*5)"
   ]
  },
  {
   "cell_type": "markdown",
   "metadata": {},
   "source": [
    "### Boolean type\n",
    "    a. Boolean values: True/False\n",
    "    b. Values defined as False in Python; Use bool() function to find True/False value\n",
    "    d. Logic operators: and, or, not\n"
   ]
  },
  {
   "cell_type": "code",
   "execution_count": null,
   "metadata": {},
   "outputs": [],
   "source": [
    "# An expression may be evaluated to be simply True/False.\n",
    "# For example, comparisons between numbers\n",
    "3 == 4 # double equal sign means being equal to. Single equal sign is for variable assignment.\n",
    "3 != 4 # not equal to\n",
    "3 > 4\n",
    "\n",
    "# For strings, we compare one by one the character of one string with another string.\n",
    "# For instance, 'Apple' vs. 'apple'. We compare 'A' with 'a'. \n",
    "# The comparison between strings is based their unicode value. Uppercase letters come before lowercase letters.\n",
    "# 'A' is smaller than 'a', so 'Apple' < 'apple'.\n",
    "'Apple' < 'apple'\n",
    "# To find out the unicode value of each character, we can use ord() function.\n",
    "ord('A')\n",
    "ord('a')\n",
    "\n",
    "# When there are numbers in the string, the comparison is similar. For example,\n",
    "'12' < '5'\n",
    "# We compare '1' with '5'. String '1' unicode value is smaller than String '5'."
   ]
  },
  {
   "cell_type": "code",
   "execution_count": null,
   "metadata": {},
   "outputs": [],
   "source": [
    "# Some values in Python are defined to indicate False: None, integer 0, float 0.0, imaginary number 0i, empty sequence or set\n",
    "# bool() can evaluate whether a value or statement to be True or False\n",
    "bool(0)\n",
    "bool(1)\n",
    "bool([])\n",
    "bool('Apple' < 'apple')"
   ]
  },
  {
   "cell_type": "code",
   "execution_count": null,
   "metadata": {},
   "outputs": [],
   "source": [
    "# The operators for Boolean type are logic operators: and, or, not\n",
    "x = 8\n",
    "y = 0\n",
    "bool(x) and bool(y) # True and False --> False\n",
    "bool(x) or bool(y) # True or False --> True\n",
    "not y"
   ]
  },
  {
   "cell_type": "code",
   "execution_count": null,
   "metadata": {},
   "outputs": [],
   "source": [
    "# The three operators should be evaluated in a sequence if they appear in one expression. That is operator precedence.\n",
    "# The sequence should be: not, and, or\n",
    "# For example, what is the output of the following expression?\n",
    "not True and False or True and False\n",
    "\n",
    "# We can combine expressions together using logic operators.\n",
    "crazy = 3>5 or '12'>'5' or not 0 == 0.0\n",
    "crazier = 3>5 and '12'>'5' and not 0 == 0.0\n",
    "\n",
    "print(\"It is a crazy world: \", crazy)\n",
    "print(\"It is a crazier world: \", crazier)"
   ]
  },
  {
   "cell_type": "markdown",
   "metadata": {},
   "source": [
    "### List\n",
    "    a. Create and access a list\n",
    "    b. Slicing\n",
    "    c. Make changes: add or remove items\n",
    "    d. List comprehension\n",
    "    e. Common functions for sequences: mutable vs. immutable"
   ]
  },
  {
   "cell_type": "code",
   "execution_count": 2,
   "metadata": {},
   "outputs": [],
   "source": [
    "# List is a powerful Python data type.\n",
    "# It is a container which holds comma separated values (i.e., items or elements) between square brackets\n",
    "# The elements can be the same or different data types\n",
    "\n",
    "# A number list\n",
    "myList1 = [0, 1, 1, 2, 3, 5, 8, 13]\n",
    "# A string list\n",
    "myList2 = ['apple', 'banana', 'cherry', 'dragonfruit', 'fig', 'grape']\n",
    "# A mixed list\n",
    "myList3 = ['1', 'apple', '3.14', 'pie']\n",
    "# A nested list\n",
    "myList4 = ['10', 'fruits', ['apple', 'banana', 'cherry', 'dragonfruit']]\n",
    "# An empty list; You can initialize a list with a set of brackets.\n",
    "myList5 = []"
   ]
  },
  {
   "cell_type": "code",
   "execution_count": null,
   "metadata": {},
   "outputs": [],
   "source": [
    "# List is a sequence, so the position of elements matters.\n",
    "[1, 2, 3] != [3, 2, 1]\n",
    "\n",
    "# The elements are not necessarily unique.\n",
    "['apple', 'banana', 'cherry', 'dragonfruit', 'apple', 'banana'] # is a valid list"
   ]
  },
  {
   "cell_type": "code",
   "execution_count": 3,
   "metadata": {},
   "outputs": [
    {
     "name": "stdout",
     "output_type": "stream",
     "text": [
      "banana\n",
      "banana\n"
     ]
    },
    {
     "data": {
      "text/plain": [
       "'cherry'"
      ]
     },
     "execution_count": 3,
     "metadata": {},
     "output_type": "execute_result"
    }
   ],
   "source": [
    "# Each element is associated with an index, which indicates the position of the element.\n",
    "# The index starts from 0. The index of the first element is 0, and the sequence goes on as 0, 1, 2...\n",
    "# We can refer to elements using their indices.\n",
    "# For example, how to print 'banana' in myList2?\n",
    "print(myList2[1])\n",
    "\n",
    "# We can use the reversed index as well. The index of the last item is -1, and the sequence goes on as -1, -2, -3\n",
    "# to print 'banana'\n",
    "print(myList2[-5])\n",
    "\n",
    "# To refer to elements in the nested list, we can use two-layer index. For example, 'cherry' from myList4 can be accessed as\n",
    "myList4[2][2]\n",
    "# The first 2 refers to the third item of the big list, the sublist of fruits;\n",
    "# The second 2 referes to the third item within the sublist, 'cherry'"
   ]
  },
  {
   "cell_type": "code",
   "execution_count": 4,
   "metadata": {},
   "outputs": [
    {
     "data": {
      "text/plain": [
       "['apple', 'banana']"
      ]
     },
     "execution_count": 4,
     "metadata": {},
     "output_type": "execute_result"
    },
    {
     "data": {
      "text/plain": [
       "['apple', 'banana']"
      ]
     },
     "execution_count": 4,
     "metadata": {},
     "output_type": "execute_result"
    },
    {
     "data": {
      "text/plain": [
       "['banana', 'cherry', 'dragonfruit']"
      ]
     },
     "execution_count": 4,
     "metadata": {},
     "output_type": "execute_result"
    },
    {
     "data": {
      "text/plain": [
       "['cherry', 'dragonfruit', 'fig', 'grape']"
      ]
     },
     "execution_count": 4,
     "metadata": {},
     "output_type": "execute_result"
    },
    {
     "data": {
      "text/plain": [
       "['banana', 'cherry', 'dragonfruit']"
      ]
     },
     "execution_count": 4,
     "metadata": {},
     "output_type": "execute_result"
    }
   ],
   "source": [
    "# Sometimes we need to access more than one element, a subset of the list. \n",
    "# We can use 'slicing' to get them. Slicing operations in Python are notably powerful and elegant.\n",
    "\n",
    "# We can slice a list by giving a range of index. It starts at the item with the starting index (left), and \n",
    "# stops at the item with the ending index (right)-1.\n",
    "# For example, to slice 'apple' and 'banana' from myList2\n",
    "myList2[0:2]\n",
    "myList2[:2] # If starting index is 0, we can omit it.\n",
    "\n",
    "# To slice 'banana', 'cherry' and 'dragonfruit'\n",
    "myList2[1:4]\n",
    "# If the ending index is the end of the list, you can omit it.\n",
    "myList2[2:]\n",
    "\n",
    "# It is similar to use the reversed index. The left index is included, but the right index is not.\n",
    "myList2[-5:-2]"
   ]
  },
  {
   "cell_type": "code",
   "execution_count": 5,
   "metadata": {},
   "outputs": [
    {
     "data": {
      "text/plain": [
       "['apple', 'cherry', 'fig']"
      ]
     },
     "execution_count": 5,
     "metadata": {},
     "output_type": "execute_result"
    },
    {
     "data": {
      "text/plain": [
       "['banana', 'dragonfruit']"
      ]
     },
     "execution_count": 5,
     "metadata": {},
     "output_type": "execute_result"
    }
   ],
   "source": [
    "# Slicing range [:] can have one more specification in the format of [ : : ]\n",
    "# The third number indicates 'steps', indicating how we move along the range. 1 means one by one, 2 means step of 2\n",
    "\n",
    "# For example, \n",
    "myList2[::2]\n",
    "# will print out a sublist that picks an item every two items, starting from the first item. \n",
    "# The first two numbers omitted means to pick from the whole list.\n",
    "# You may pick from any sublist.\n",
    "myList2[1:5:2]"
   ]
  },
  {
   "cell_type": "code",
   "execution_count": 6,
   "metadata": {},
   "outputs": [
    {
     "data": {
      "text/plain": [
       "'apple'"
      ]
     },
     "execution_count": 6,
     "metadata": {},
     "output_type": "execute_result"
    },
    {
     "data": {
      "text/plain": [
       "['apple']"
      ]
     },
     "execution_count": 6,
     "metadata": {},
     "output_type": "execute_result"
    }
   ],
   "source": [
    "# Is myList2[0] the same as myList2[0:1]?\n",
    "myList2[0] # a string\n",
    "myList2[0:1] # a sublist"
   ]
  },
  {
   "cell_type": "code",
   "execution_count": null,
   "metadata": {},
   "outputs": [],
   "source": [
    "# List is mutable means it is editable. You may make changes to a list in many ways.\n",
    "\n",
    "# To change the value of an element: direct re-assignment using the index\n",
    "myList2[2] = 'cantaloupe'"
   ]
  },
  {
   "cell_type": "code",
   "execution_count": 7,
   "metadata": {},
   "outputs": [
    {
     "data": {
      "text/plain": [
       "['apple', 'banana', 'cherry', 'dragonfruit', 'fig', 'grape', 'honeydew']"
      ]
     },
     "execution_count": 7,
     "metadata": {},
     "output_type": "execute_result"
    }
   ],
   "source": [
    "# To add items to a list append(), extend(), insert()\n",
    "# append() adds an item to the end of the list\n",
    "myList2.append('honeydew')\n",
    "myList2"
   ]
  },
  {
   "cell_type": "code",
   "execution_count": 8,
   "metadata": {},
   "outputs": [
    {
     "data": {
      "text/plain": [
       "['apple',\n",
       " 'banana',\n",
       " 'cherry',\n",
       " 'dragonfruit',\n",
       " 'fig',\n",
       " 'grape',\n",
       " 'honeydew',\n",
       " ['jackfruit', 'kiwi']]"
      ]
     },
     "execution_count": 8,
     "metadata": {},
     "output_type": "execute_result"
    }
   ],
   "source": [
    "# If the item is a list, it will still be added as one item. For example:\n",
    "myList2.append(['jackfruit', 'kiwi'])\n",
    "myList2"
   ]
  },
  {
   "cell_type": "code",
   "execution_count": 9,
   "metadata": {},
   "outputs": [
    {
     "data": {
      "text/plain": [
       "['apple',\n",
       " 'banana',\n",
       " 'cherry',\n",
       " 'dragonfruit',\n",
       " 'fig',\n",
       " 'grape',\n",
       " 'honeydew',\n",
       " ['jackfruit', 'kiwi'],\n",
       " 'jackfruit',\n",
       " 'kiwi']"
      ]
     },
     "execution_count": 9,
     "metadata": {},
     "output_type": "execute_result"
    }
   ],
   "source": [
    "# To add item by item, we need to use extend()\n",
    "# extend() takes an iterable object and adds to the list one item a time\n",
    "myList2.extend(['jackfruit', 'kiwi'])\n",
    "myList2"
   ]
  },
  {
   "cell_type": "code",
   "execution_count": 10,
   "metadata": {},
   "outputs": [
    {
     "data": {
      "text/plain": [
       "['apple',\n",
       " 'banana',\n",
       " 'cherry',\n",
       " 'dragonfruit',\n",
       " 'fig',\n",
       " 'grape',\n",
       " 'honeydew',\n",
       " ['jackfruit', 'kiwi'],\n",
       " 'jackfruit',\n",
       " 'kiwi',\n",
       " 'x',\n",
       " 'y',\n",
       " 'z']"
      ]
     },
     "execution_count": 10,
     "metadata": {},
     "output_type": "execute_result"
    }
   ],
   "source": [
    "# A string is also an iterable object. So extend() will extend the list by adding one character a time.\n",
    "myList2.extend('xyz')\n",
    "myList2"
   ]
  },
  {
   "cell_type": "code",
   "execution_count": 11,
   "metadata": {},
   "outputs": [
    {
     "data": {
      "text/plain": [
       "'p'"
      ]
     },
     "execution_count": 11,
     "metadata": {},
     "output_type": "execute_result"
    }
   ],
   "source": [
    "myStr1 = 'apple'\n",
    "myStr1[1]"
   ]
  },
  {
   "cell_type": "code",
   "execution_count": 12,
   "metadata": {},
   "outputs": [
    {
     "data": {
      "text/plain": [
       "['apple',\n",
       " 'banana',\n",
       " 'cherry',\n",
       " 'dragonfruit',\n",
       " 'eggplant',\n",
       " 'fig',\n",
       " 'grape',\n",
       " 'honeydew',\n",
       " ['jackfruit', 'kiwi'],\n",
       " 'jackfruit',\n",
       " 'kiwi',\n",
       " 'x',\n",
       " 'y',\n",
       " 'z']"
      ]
     },
     "execution_count": 12,
     "metadata": {},
     "output_type": "execute_result"
    }
   ],
   "source": [
    "# insert() insert an item to a specified position.\n",
    "myList2.insert(4, 'eggplant')\n",
    "myList2"
   ]
  },
  {
   "cell_type": "code",
   "execution_count": 13,
   "metadata": {},
   "outputs": [
    {
     "data": {
      "text/plain": [
       "['apple',\n",
       " 'banana',\n",
       " 'cherry',\n",
       " 'dragonfruit',\n",
       " 'eggplant',\n",
       " 'fig',\n",
       " 'grape',\n",
       " 'honeydew',\n",
       " ['jackfruit', 'kiwi'],\n",
       " 'jackfruit',\n",
       " 'kiwi',\n",
       " 'x',\n",
       " 'y',\n",
       " 'z',\n",
       " 'coffee',\n",
       " 'tea']"
      ]
     },
     "execution_count": 13,
     "metadata": {},
     "output_type": "execute_result"
    }
   ],
   "source": [
    "# Another way to add more items to a list is concatenation, i.e. combine two lists together using \"+\"\n",
    "drinkList = ['coffee', 'tea']\n",
    "snackList = myList2 + drinkList\n",
    "snackList"
   ]
  },
  {
   "cell_type": "code",
   "execution_count": 14,
   "metadata": {},
   "outputs": [
    {
     "data": {
      "text/plain": [
       "['apple',\n",
       " 'banana',\n",
       " 'cherry',\n",
       " 'dragonfruit',\n",
       " 'eggplant',\n",
       " 'fig',\n",
       " 'grape',\n",
       " 'honeydew',\n",
       " 'jackfruit',\n",
       " 'kiwi',\n",
       " 'x',\n",
       " 'y',\n",
       " 'z',\n",
       " 'coffee',\n",
       " 'tea']"
      ]
     },
     "execution_count": 14,
     "metadata": {},
     "output_type": "execute_result"
    }
   ],
   "source": [
    "# To delete an item: del, remove(), pop()\n",
    "# del delete an item by index.\n",
    "# Check our myList2. Let's delete the sublist first\n",
    "del snackList[8]\n",
    "snackList"
   ]
  },
  {
   "cell_type": "code",
   "execution_count": 15,
   "metadata": {},
   "outputs": [
    {
     "data": {
      "text/plain": [
       "['apple',\n",
       " 'banana',\n",
       " 'cherry',\n",
       " 'dragonfruit',\n",
       " 'eggplant',\n",
       " 'fig',\n",
       " 'grape',\n",
       " 'honeydew',\n",
       " 'jackfruit',\n",
       " 'kiwi',\n",
       " 'coffee',\n",
       " 'tea']"
      ]
     },
     "execution_count": 15,
     "metadata": {},
     "output_type": "execute_result"
    }
   ],
   "source": [
    "# The remove() method takes a single item and deletes the first matching value in the list\n",
    "snackList.remove('x')\n",
    "snackList.remove('y')\n",
    "snackList.remove('z')\n",
    "snackList"
   ]
  },
  {
   "cell_type": "code",
   "execution_count": 16,
   "metadata": {},
   "outputs": [
    {
     "data": {
      "text/plain": [
       "'eggplant'"
      ]
     },
     "execution_count": 16,
     "metadata": {},
     "output_type": "execute_result"
    },
    {
     "data": {
      "text/plain": [
       "['apple',\n",
       " 'banana',\n",
       " 'cherry',\n",
       " 'dragonfruit',\n",
       " 'fig',\n",
       " 'grape',\n",
       " 'honeydew',\n",
       " 'jackfruit',\n",
       " 'kiwi',\n",
       " 'coffee',\n",
       " 'tea']"
      ]
     },
     "execution_count": 16,
     "metadata": {},
     "output_type": "execute_result"
    }
   ],
   "source": [
    "# The pop() method removes the element at the specified position. It'll return the removed item to the screen.\n",
    "snackList.pop(4)\n",
    "snackList"
   ]
  },
  {
   "cell_type": "code",
   "execution_count": 18,
   "metadata": {},
   "outputs": [
    {
     "data": {
      "text/plain": [
       "['apple',\n",
       " 'banana',\n",
       " 'cherry',\n",
       " 'coffee',\n",
       " 'dragonfruit',\n",
       " 'fig',\n",
       " 'grape',\n",
       " 'honeydew',\n",
       " 'jackfruit',\n",
       " 'kiwi',\n",
       " 'tea']"
      ]
     },
     "execution_count": 18,
     "metadata": {},
     "output_type": "execute_result"
    }
   ],
   "source": [
    "# Other useful functions: sort(); reverse=True will sort the list descending\n",
    "snackList.sort()\n",
    "snackList"
   ]
  },
  {
   "cell_type": "code",
   "execution_count": 19,
   "metadata": {},
   "outputs": [
    {
     "data": {
      "text/plain": [
       "['tea',\n",
       " 'kiwi',\n",
       " 'jackfruit',\n",
       " 'honeydew',\n",
       " 'grape',\n",
       " 'fig',\n",
       " 'dragonfruit',\n",
       " 'coffee',\n",
       " 'cherry',\n",
       " 'banana',\n",
       " 'apple']"
      ]
     },
     "execution_count": 19,
     "metadata": {},
     "output_type": "execute_result"
    }
   ],
   "source": [
    "snackList.sort(reverse = True)\n",
    "snackList"
   ]
  },
  {
   "cell_type": "code",
   "execution_count": 20,
   "metadata": {},
   "outputs": [
    {
     "data": {
      "text/plain": [
       "['apple',\n",
       " 'banana',\n",
       " 'cherry',\n",
       " 'coffee',\n",
       " 'dragonfruit',\n",
       " 'fig',\n",
       " 'grape',\n",
       " 'honeydew',\n",
       " 'jackfruit',\n",
       " 'kiwi',\n",
       " 'tea']"
      ]
     },
     "execution_count": 20,
     "metadata": {},
     "output_type": "execute_result"
    }
   ],
   "source": [
    "# reverse(): Reverse the list\n",
    "snackList.reverse()\n",
    "snackList"
   ]
  },
  {
   "cell_type": "code",
   "execution_count": 21,
   "metadata": {},
   "outputs": [
    {
     "data": {
      "text/plain": [
       "1"
      ]
     },
     "execution_count": 21,
     "metadata": {},
     "output_type": "execute_result"
    }
   ],
   "source": [
    "# count(): Count the number of occurrences\n",
    "snackList.count('apple')"
   ]
  },
  {
   "cell_type": "code",
   "execution_count": 22,
   "metadata": {},
   "outputs": [
    {
     "data": {
      "text/plain": [
       "5"
      ]
     },
     "execution_count": 22,
     "metadata": {},
     "output_type": "execute_result"
    }
   ],
   "source": [
    "# index(): get the index number of an item\n",
    "snackList.index('fig')"
   ]
  },
  {
   "cell_type": "code",
   "execution_count": 23,
   "metadata": {
    "scrolled": true
   },
   "outputs": [
    {
     "data": {
      "text/plain": [
       "11"
      ]
     },
     "execution_count": 23,
     "metadata": {},
     "output_type": "execute_result"
    },
    {
     "data": {
      "text/plain": [
       "'apple'"
      ]
     },
     "execution_count": 23,
     "metadata": {},
     "output_type": "execute_result"
    },
    {
     "data": {
      "text/plain": [
       "'tea'"
      ]
     },
     "execution_count": 23,
     "metadata": {},
     "output_type": "execute_result"
    }
   ],
   "source": [
    "# len(), min(), max()\n",
    "len(snackList)\n",
    "min(snackList)\n",
    "max(snackList)"
   ]
  },
  {
   "cell_type": "code",
   "execution_count": 27,
   "metadata": {},
   "outputs": [
    {
     "data": {
      "text/plain": [
       "True"
      ]
     },
     "execution_count": 27,
     "metadata": {},
     "output_type": "execute_result"
    },
    {
     "data": {
      "text/plain": [
       "False"
      ]
     },
     "execution_count": 27,
     "metadata": {},
     "output_type": "execute_result"
    },
    {
     "data": {
      "text/plain": [
       "False"
      ]
     },
     "execution_count": 27,
     "metadata": {},
     "output_type": "execute_result"
    },
    {
     "data": {
      "text/plain": [
       "True"
      ]
     },
     "execution_count": 27,
     "metadata": {},
     "output_type": "execute_result"
    }
   ],
   "source": [
    "# in, not in: return True/False based on whether an item is in the list\n",
    "# For example,\n",
    "'apple' in snackList\n",
    "'apple' not in snackList\n",
    "'orange' in snackList\n",
    "'orange' not in snackList"
   ]
  }
 ],
 "metadata": {
  "kernelspec": {
   "display_name": "Python 3",
   "language": "python",
   "name": "python3"
  },
  "language_info": {
   "codemirror_mode": {
    "name": "ipython",
    "version": 3
   },
   "file_extension": ".py",
   "mimetype": "text/x-python",
   "name": "python",
   "nbconvert_exporter": "python",
   "pygments_lexer": "ipython3",
   "version": "3.8.8"
  }
 },
 "nbformat": 4,
 "nbformat_minor": 2
}
