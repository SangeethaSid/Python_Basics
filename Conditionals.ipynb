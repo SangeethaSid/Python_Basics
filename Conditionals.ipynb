{
 "cells": [
  {
   "cell_type": "markdown",
   "metadata": {
    "collapsed": true
   },
   "source": [
    "# Programming for Business Analytics"
   ]
  },
  {
   "cell_type": "code",
   "execution_count": 5,
   "metadata": {},
   "outputs": [],
   "source": [
    "# This code appears in every demonstration Notebook.\n",
    "# By default, when you run each cell, only the last output of the codes will show.\n",
    "# This code makes all outputs of a cell show.\n",
    "from IPython.core.interactiveshell import InteractiveShell\n",
    "InteractiveShell.ast_node_interactivity = \"all\""
   ]
  },
  {
   "cell_type": "markdown",
   "metadata": {},
   "source": [
    "## Flow controls\n",
    "This week we will start to learn about flow controls in programming. A program does not only execute instructions line by line, it may need to repeat, skip or select instructions based on conditions. Simple examples would be \"select customers whose income is greater than 100K\", or \"keep checking the username and password until they are correct\". Flow control statements in Python will help your program to decide how the instructions are executed.<br>\n",
    "There are two main types of flow controls: conditionals and loops."
   ]
  },
  {
   "cell_type": "markdown",
   "metadata": {},
   "source": [
    "### Conditionals\n",
    "Our program can selectively execute instructions based on conditions. For instance, when a program controls an auto-driving car, the following may happen: <br>\n",
    "If the light is red or yellow, stop; <br>\n",
    "If the light is green, go straight. <dr>\n",
    "\n",
    "To interpret them into programming language, we use conditional statements. There are three conditional statements: if..., elif..., and else...<br> \n",
    "'...' refers to the conditions to be evaluated. <br>\n",
    "These statements can be used in five different structures. We will explain them with examples below."
   ]
  },
  {
   "cell_type": "markdown",
   "metadata": {},
   "source": [
    "### Case 1: if... (If COVID positive, stay home.)"
   ]
  },
  {
   "cell_type": "code",
   "execution_count": 8,
   "metadata": {
    "scrolled": true
   },
   "outputs": [
    {
     "name": "stdout",
     "output_type": "stream",
     "text": [
      "Please enter a number:\n",
      "7\n",
      "You entered a positive number.\n"
     ]
    }
   ],
   "source": [
    "# if... statement is the only required statement for a condition control.\n",
    "# When the conditions are evaluated to be True, the instructions followed the statement are executed;\n",
    "# When False, the program ignores the instructions and move to next code.\n",
    "\n",
    "\n",
    "# For example:\n",
    "x = input('Please enter a number:\\n')\n",
    "if int(x)>0:\n",
    "    print('You entered a positive number.')\n",
    "\n",
    "# The instructions, i.e. the block of code, are indicated with indentation and indentation only.\n",
    "# This is a critical feature of Python. No brackets to wrap the code block, only indentations. So, be careful.\n",
    "# By default, when you hit enter after finishing a condition statement, it will automatically indent 4 spaces.\n",
    "# You can use either Tab or Space to create the indentation. Which one is preferred? \n",
    "# Here is the suggestion from Python style guide:\n",
    "# \"Spaces are the preferred indentation method. \n",
    "# Tabs should be used solely to remain consistent with code that is already indented with tabs.\""
   ]
  },
  {
   "cell_type": "code",
   "execution_count": 6,
   "metadata": {},
   "outputs": [
    {
     "data": {
      "text/plain": [
       "False"
      ]
     },
     "execution_count": 6,
     "metadata": {},
     "output_type": "execute_result"
    },
    {
     "data": {
      "text/plain": [
       "True"
      ]
     },
     "execution_count": 6,
     "metadata": {},
     "output_type": "execute_result"
    },
    {
     "data": {
      "text/plain": [
       "False"
      ]
     },
     "execution_count": 6,
     "metadata": {},
     "output_type": "execute_result"
    },
    {
     "data": {
      "text/plain": [
       "True"
      ]
     },
     "execution_count": 6,
     "metadata": {},
     "output_type": "execute_result"
    },
    {
     "data": {
      "text/plain": [
       "False"
      ]
     },
     "execution_count": 6,
     "metadata": {},
     "output_type": "execute_result"
    },
    {
     "data": {
      "text/plain": [
       "True"
      ]
     },
     "execution_count": 6,
     "metadata": {},
     "output_type": "execute_result"
    }
   ],
   "source": [
    "# Conditions often involve comparison. We have learned about comparisons in last module when we introduce Boolean data type.\n",
    "# Here we summarize the relational operators for comparison. What do these expressions evaluated to?\n",
    "'Apple' == 'apple' # Equal to\n",
    "'Apple' != 'apple' # Not equal to\n",
    "'Apple' > 'apple' # Greater than\n",
    "'Apple' < 'apple' # Less than\n",
    "'Apple' >= 'apple' # Greater than or equal to\n",
    "'Apple' <= 'apple' # Less than or equal to"
   ]
  },
  {
   "cell_type": "markdown",
   "metadata": {},
   "source": [
    "### Case 2: if...else... (If COVID positive, stay home; otherwise, come to class.)"
   ]
  },
  {
   "cell_type": "code",
   "execution_count": 9,
   "metadata": {},
   "outputs": [
    {
     "name": "stdout",
     "output_type": "stream",
     "text": [
      "What time is it, noon or not?\n",
      "noon\n",
      "Go to lunch.\n"
     ]
    }
   ],
   "source": [
    "# The else... block specifies what the program will do when the condition is False.\n",
    "# Let's talk about lunch.\n",
    "currentTime = input('What time is it, noon or not?\\n')\n",
    "if currentTime == 'noon':\n",
    "    print(\"Go to lunch.\")\n",
    "else:\n",
    "    print(\"Stay in class.\")"
   ]
  },
  {
   "cell_type": "code",
   "execution_count": null,
   "metadata": {},
   "outputs": [],
   "source": [
    "# Practice: Ask the user about their current status: student, employed, unemployed, etc. \n",
    "# If student, tell them that they are eligible for discounts. \n",
    "# Any other cases are not.\n",
    "userStatus = input('Please tell us about your status: student, employed, unemployed, etc.')\n",
    "if userStatus == 'student':\n",
    "    print('You are eligible for discounts.')\n",
    "else:\n",
    "    print('Sorry, no discount.')"
   ]
  },
  {
   "cell_type": "markdown",
   "metadata": {},
   "source": [
    "### Case 3: if...elif... (If COVID positive, stay home; if fever, stay home; if cough, stay home; if...)"
   ]
  },
  {
   "cell_type": "code",
   "execution_count": null,
   "metadata": {},
   "outputs": [],
   "source": [
    "# Print out our letter grade policy:\n",
    "finalscore = input(\"Please enter your final score: \")\n",
    "finalscore = int(finalscore)\n",
    "\n",
    "if 90<=finalscore<=100:\n",
    "    grade = 'A'\n",
    "elif 80<=finalscore<90:\n",
    "    grade = \"B\"\n",
    "elif 70<=finalscore<80:\n",
    "    grade = 'C'\n",
    "elif 60<=finalscore<70:\n",
    "    grade = 'D'\n",
    "print(\"Your final grade is \" + grade + '.') # You may concatenate the strings\n",
    "print(\"Your final grade is\", grade) # Or print it as another object. Objects are separated by a space."
   ]
  },
  {
   "cell_type": "code",
   "execution_count": 13,
   "metadata": {},
   "outputs": [
    {
     "name": "stdout",
     "output_type": "stream",
     "text": [
      "Please tell me how far away you live from campus (in miles)?\n",
      "0.5\n",
      "It is best to walk.\n"
     ]
    }
   ],
   "source": [
    "# Practice: Ask the user how far they live from the campus (in miles). Based on the distance, \n",
    "# for example, within 1 mile, 1 - 2 miles, 2-5 miles and above, make transportation suggestions such as\n",
    "# shuttle, biking, walking, driving, etc.\n",
    "myDistance = input(\"Please tell me how far away you live from campus (in miles)?\\n\")\n",
    "myDistance = float(myDistance)\n",
    "if myDistance <= 1:\n",
    "    print(\"It is best to walk.\")\n",
    "elif 1 < myDistance <= 2: \n",
    "    print(\"Biking is great!\")\n",
    "elif 2 < myDistance <= 5:\n",
    "    print(\"Try the shuttle.\")\n",
    "elif myDistance > 5:\n",
    "    print('Maybe you have to get a car.')"
   ]
  },
  {
   "cell_type": "markdown",
   "metadata": {},
   "source": [
    "### Case 4: if...elif...elif..else (If COVID positive, stay home; if fever, stay home; if cough, stay home... otherwise, come to class)"
   ]
  },
  {
   "cell_type": "code",
   "execution_count": null,
   "metadata": {},
   "outputs": [],
   "source": [
    "# A string is lowercase if all letters in it are lowercase. The function islower() returns True if the string is lowercase.\n",
    "# For instance, 'apple'.islower() returns True\n",
    "# There are two strings: str1 and str2. So, four cases might happen:\n",
    "# 1. Both lowercase; 2. str1 is lowercase and str2 not; 3. str2 is lowercase and str1 not; 4. None of them lowercase\n",
    "# Use if...elif...else to print out the four cases.\n",
    "str1 = \"welcome\"\n",
    "str2 = \"I have $5.\"\n",
    "\n",
    "if str1.islower() and str2.islower():\n",
    "    print(\"Both are lowercase\")\n",
    "elif str1.islower():\n",
    "    print(\"String 1 is lowercase\")\n",
    "elif str2.islower():\n",
    "    print(\"String 2 is lowercase\")\n",
    "#elif not str1.islower() and not str2.islower():\n",
    "#    print(\"Both are not lowercase\")\n",
    "else:\n",
    "    print(\"Both are not lowercase\")"
   ]
  },
  {
   "cell_type": "markdown",
   "metadata": {},
   "source": [
    "### Case 5: [operations] if [condition] else [operations] (all codes in one line)"
   ]
  },
  {
   "cell_type": "code",
   "execution_count": null,
   "metadata": {},
   "outputs": [],
   "source": [
    "print(\"You passed.\") if finalscore >= 60 else print(\"Sorry, you failed.\")\n",
    "\n",
    "# This may look succint, but if you find it hard to read and understand, you can always go back to the orignial style.\n",
    "# In programming, we are not trying to look smart or sophisticated.\n",
    "# A principle in programming is KISS: Keep It Simple and Stupid."
   ]
  },
  {
   "cell_type": "markdown",
   "metadata": {},
   "source": [
    "### Nested conditionals\n",
    "Sometimes we work with more than one categories of conditions. We can use the Verizon example we mentioned earlier. Suppose we found a set of conditions that may classify a customer to be at risk of churning. First, the number of years since the contract signed; Second, whether the customer has made complaints, as shown in the Table below.\n",
    "<table style=\"width:100%\">\n",
    "  <tr>\n",
    "    <th>Conditions</th>\n",
    "    <th>less than 1</th>\n",
    "    <th>1 to 2 years</th>\n",
    "    <th>greater than 2</th>\n",
    "  </tr>\n",
    "  <tr>\n",
    "    <td>Complains - Yes</td>\n",
    "    <td>Low risk</td>\n",
    "    <td>Medium risk</td>\n",
    "    <td>High risk</td>\n",
    "  </tr>\n",
    "  <tr>\n",
    "    <td>Complains - No</td>\n",
    "    <td>Low risk</td>\n",
    "    <td>Medium risk</td>\n",
    "    <td>Medium risk</td>\n",
    "  </tr>\n",
    "</table>\n",
    "\n",
    "To combine the conditions and map to the outcome, you may:"
   ]
  },
  {
   "cell_type": "code",
   "execution_count": null,
   "metadata": {},
   "outputs": [],
   "source": [
    "# Use 'and' operator to combine\n",
    "# for example:\n",
    "years = input('How long has the customer been with us?')\n",
    "years = int(years)\n",
    "complaints = input('Has the customer ever made complaints?')\n",
    "if years < 1 and complaints == 'Yes':\n",
    "    print('The customer is at low risk of churning.')\n",
    "elif 1 <= years < 2 and complaints == 'Yes':\n",
    "    print('The customer is at medium risk of churning.')\n",
    "#... go on to finish all six combinations."
   ]
  },
  {
   "cell_type": "code",
   "execution_count": null,
   "metadata": {},
   "outputs": [],
   "source": [
    "# Use nested conditions\n",
    "if complaints == 'Yes':\n",
    "    if year < 1:\n",
    "        print('The customer is at low risk of churning.')\n",
    "    elif 1 <= years < 2:\n",
    "        print('The customer is at medium risk of churning.')\n",
    "    else:\n",
    "        print('The customer is at high risk of churning.')\n",
    "else:\n",
    "    if year < 1:\n",
    "        print('The customer is at low risk of churning.')\n",
    "    elif 1 <= years < 2:\n",
    "        print('The customer is at medium risk of churning.')\n",
    "    else:\n",
    "        print('The customer is at medium risk of churning.')\n",
    "\n",
    "# The structure of the conditions is better presented with nested conditions"
   ]
  },
  {
   "cell_type": "markdown",
   "metadata": {},
   "source": [
    "### Practice: \n",
    "A small sandwich shop serves two types of sandwich: cheese and veggie. Cheese sandwich has two choices: manchego and cheddar. Let's create an ordering program for this shop.<br>\n",
    "You may ask customers to make choices following your instruction (e.g. \"Please choose 'c' for cheese and 'v' for veggie). <br>\n",
    "Based on their chocies, please present them what they order (e.g., print out \"Here is your cheddar cheese sandwich.\") <br>"
   ]
  },
  {
   "cell_type": "code",
   "execution_count": null,
   "metadata": {},
   "outputs": [],
   "source": [
    "\n"
   ]
  }
 ],
 "metadata": {
  "kernelspec": {
   "display_name": "Python 3",
   "language": "python",
   "name": "python3"
  },
  "language_info": {
   "codemirror_mode": {
    "name": "ipython",
    "version": 3
   },
   "file_extension": ".py",
   "mimetype": "text/x-python",
   "name": "python",
   "nbconvert_exporter": "python",
   "pygments_lexer": "ipython3",
   "version": "3.8.8"
  }
 },
 "nbformat": 4,
 "nbformat_minor": 2
}
