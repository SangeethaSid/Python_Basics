{
 "cells": [
  {
   "cell_type": "markdown",
   "metadata": {
    "collapsed": true
   },
   "source": [
    "# Programming for Business Analytics (Python)"
   ]
  },
  {
   "cell_type": "markdown",
   "metadata": {},
   "source": [
    "### In this session, we will learn about functions.\n",
    "    1. Define functions: Default arguments, Keyword arguments, Return statement\n",
    "    2. Global vs. local scopes\n",
    "    3. Exception handling\n",
    "    4. lambda functions"
   ]
  },
  {
   "cell_type": "code",
   "execution_count": null,
   "metadata": {},
   "outputs": [],
   "source": [
    "# This code appears in every demonstration Notebook.\n",
    "# By default, when you run each cell, only the last output of the codes will show.\n",
    "# This code makes all outputs of a cell show.\n",
    "from IPython.core.interactiveshell import InteractiveShell\n",
    "InteractiveShell.ast_node_interactivity = \"all\""
   ]
  },
  {
   "cell_type": "markdown",
   "metadata": {},
   "source": [
    "### Functions\n",
    "    A function is a pre-defined program that performs certain tasks. For example, the very first print() function we have learned prints stuff out to the screen. The Python creator has written the underlying code that commands the computer to do so, and we just need to call the function in our own program.\n",
    "    Besides the Python built-in functions, a complete list of which you may find in our slides, each package written by Python community members contains functions you can call and use to build your program. For instance, Pandas packages provide functions to work with rows and columns of datasets.\n",
    "    Functions work like legos: small pieces of programs to build a large, well-structured program. You may use lego pieces created by the Python community or you can create your own lego pieces in your program.\n",
    "    So, why do we create lego pieces in our program? There are at least two reasons:\n",
    "        1. The piece will be repeatedly used in your program. Defining it as a function emcapsulates the code for reuse anywhere.\n",
    "        2. Lego pieces make your program modular. Debugging and maintenance are easier with modular programs. It is easier to locate and fix errors within a module than the whole program."
   ]
  },
  {
   "cell_type": "code",
   "execution_count": null,
   "metadata": {},
   "outputs": [],
   "source": [
    "# A program turns the word into capital letters and prints it out.\n",
    "phrase = \"hello\"\n",
    "print(phrase.upper()+\"!\")\n",
    "print('It is a pleasure meeting you!')"
   ]
  },
  {
   "cell_type": "code",
   "execution_count": null,
   "metadata": {},
   "outputs": [],
   "source": [
    "# To define it as a function\n",
    "def yell_it():\n",
    "    phrase = \"hello\"\n",
    "    print(phrase.upper()+\"!\")\n",
    "    print('It is a pleasure meeting you!')\n",
    "# When you run this cell, nothing happens. The code is executed when you call the function, not when you define it."
   ]
  },
  {
   "cell_type": "code",
   "execution_count": null,
   "metadata": {},
   "outputs": [],
   "source": [
    "# Call the function three times\n",
    "yell_it()\n",
    "yell_it()\n",
    "yell_it()\n",
    "# Calling a function: function name + ()"
   ]
  },
  {
   "cell_type": "code",
   "execution_count": null,
   "metadata": {},
   "outputs": [],
   "source": [
    "# How can we change the word to yell as we want?\n",
    "# Define a function with parameters to adapt to different cases.\n",
    "def yell_this(words_to_yell):\n",
    "    print(words_to_yell.upper()+\"!\")\n",
    "    print('It is a pleasure meeting you!')"
   ]
  },
  {
   "cell_type": "code",
   "execution_count": null,
   "metadata": {},
   "outputs": [],
   "source": [
    "yell_this('hi')\n",
    "# When the function is called, the value 'hi' being passed to the function call is an argument.\n",
    "# The argument 'hi' is assigned to variable 'words_to_yell'. \n",
    "# Variables that have arguments assigned to them are parameters. \n",
    "# 'words_to_yell' is a parameter defined in function yell_this()."
   ]
  },
  {
   "cell_type": "code",
   "execution_count": null,
   "metadata": {},
   "outputs": [],
   "source": [
    "yell_this()"
   ]
  },
  {
   "cell_type": "code",
   "execution_count": null,
   "metadata": {},
   "outputs": [],
   "source": [
    "# Sometimes, we set default values for arguments\n",
    "def yell_this(words_to_yell = \"mean green\"):\n",
    "    print(words_to_yell.upper()+\"!\")"
   ]
  },
  {
   "cell_type": "code",
   "execution_count": null,
   "metadata": {},
   "outputs": [],
   "source": [
    "yell_this()"
   ]
  },
  {
   "cell_type": "code",
   "execution_count": null,
   "metadata": {},
   "outputs": [],
   "source": [
    "# define a function yell_this() that does the same, but take an argument (the input from users).\n",
    "words = input(\"Please tell us what you think: \")\n",
    "yell_this(words)"
   ]
  },
  {
   "cell_type": "code",
   "execution_count": null,
   "metadata": {},
   "outputs": [],
   "source": [
    "# When there are more than one parameters, how do we know which argument passes to which parameter?\n",
    "# The positions of parameters when you define the function can determine that, but it requires you to remember the\n",
    "# exact position of each parameter.\n",
    "# To avoid confusion and also make your program easier to read, we use keywords to indicate parameters.\n",
    "# For example, we change our yelling to cheering. \n",
    "# The cheering function gets the word and how many times we want to cheer.\n",
    "\n",
    "def cheering(cheering_words = \"Go\", cheering_times = 3):\n",
    "    aletters = \"bcdgjkpqtuwyz\"\n",
    "    for char in cheering_words:\n",
    "        if char.lower() in aletters:\n",
    "            print(\"Give me a \" + char.lower() + \"!\" + char.upper())\n",
    "        else:\n",
    "            print(\"Give me an \" + char.lower() + \"!\" + char.upper())\n",
    "    \n",
    "    print(\"What does that spell?\\n\")\n",
    "    \n",
    "    for i in range(cheering_times):\n",
    "        print(cheering_words, \"!!!\")"
   ]
  },
  {
   "cell_type": "code",
   "execution_count": null,
   "metadata": {},
   "outputs": [],
   "source": [
    "cheering()"
   ]
  },
  {
   "cell_type": "code",
   "execution_count": null,
   "metadata": {
    "scrolled": false
   },
   "outputs": [],
   "source": [
    "cheering(\"MeanGreen\", 6)"
   ]
  },
  {
   "cell_type": "code",
   "execution_count": null,
   "metadata": {},
   "outputs": [],
   "source": [
    "cheering(6,\"MeanGreen\")"
   ]
  },
  {
   "cell_type": "code",
   "execution_count": null,
   "metadata": {},
   "outputs": [],
   "source": [
    "cheering(cheering_words = \"MeanGreen\", cheering_times = 5)"
   ]
  },
  {
   "cell_type": "code",
   "execution_count": null,
   "metadata": {},
   "outputs": [],
   "source": [
    "cheering(cheering_times = 5, cheering_words = \"MeanGreen\")"
   ]
  },
  {
   "cell_type": "code",
   "execution_count": null,
   "metadata": {},
   "outputs": [],
   "source": [
    "# Sometimes our functions need to return values. The return statement will do that.\n",
    "# The returned value can be assigned to variables.\n",
    "def circleArea(radius):\n",
    "    return 3.14*radius**2\n",
    "\n",
    "r = input('Please enter a radius: \\n')\n",
    "print('The area is', circleArea(int(r)))"
   ]
  },
  {
   "cell_type": "code",
   "execution_count": null,
   "metadata": {},
   "outputs": [],
   "source": [
    "# The return value can be True or False.\n",
    "def checklower(userstr):\n",
    "    if userstr.islower():\n",
    "        return True\n",
    "    else:\n",
    "        return False\n",
    "\n",
    "lowerstatus = checklower(input('Please enter a word'))\n",
    "print(lowerstatus)\n",
    "if lowerstatus:\n",
    "    print('Your word is lowercase.')\n",
    "else:\n",
    "    print('Please enter lowercase.')"
   ]
  },
  {
   "cell_type": "code",
   "execution_count": null,
   "metadata": {},
   "outputs": [],
   "source": [
    "# How can we return multiple values?\n",
    "# Define a function that counts the numbers of str and digits in a list and return them.\n",
    "\n",
    "def listCheck(userlist):\n",
    "    digitnum = 0\n",
    "    charnum = 0\n",
    "    \n",
    "    for item in userlist:\n",
    "        if item.isalpha():\n",
    "            charnum +=1\n",
    "        elif item.isdigit():\n",
    "            digitnum += 1\n",
    "        else:\n",
    "            continue\n",
    "    return digitnum, charnum"
   ]
  },
  {
   "cell_type": "code",
   "execution_count": null,
   "metadata": {},
   "outputs": [],
   "source": [
    "results = listCheck(['23', '45', 'apple', 'banana'])\n",
    "print(results)"
   ]
  },
  {
   "cell_type": "code",
   "execution_count": null,
   "metadata": {},
   "outputs": [],
   "source": [
    "# We define variables in both the main program and self-defined functions. \n",
    "# The variables defined in the main program are global variables, while the ones in functions are local variables.\n",
    "# There are different in the following ways.\n",
    "\n",
    "# 1. Global variables can be accessed in local scopes. For example,\n",
    "x = 5\n",
    "def powerfunc():\n",
    "    return x*x\n",
    "print(powerfunc())"
   ]
  },
  {
   "cell_type": "code",
   "execution_count": null,
   "metadata": {},
   "outputs": [],
   "source": [
    "# 2. Local variables cannot be accessed in the global scope\n",
    "def trifunc():\n",
    "    y = 5\n",
    "    return y*y*y\n",
    "print(y)"
   ]
  },
  {
   "cell_type": "code",
   "execution_count": null,
   "metadata": {},
   "outputs": [],
   "source": [
    "# 3. Local scopes cannot make changes to global variables\n",
    "z = 8\n",
    "def sqfunc():\n",
    "    z = 9\n",
    "    return z*z\n",
    "sqfunc()"
   ]
  },
  {
   "cell_type": "code",
   "execution_count": null,
   "metadata": {},
   "outputs": [],
   "source": [
    "print(z)"
   ]
  },
  {
   "cell_type": "code",
   "execution_count": null,
   "metadata": {},
   "outputs": [],
   "source": [
    "# Unless you declare it as global using global statement in the local scope, but it's not suggested.\n",
    "z = 8\n",
    "def sqfunc():\n",
    "    global z\n",
    "    z = 9\n",
    "    return z*z\n",
    "sqfunc()"
   ]
  },
  {
   "cell_type": "code",
   "execution_count": null,
   "metadata": {},
   "outputs": [],
   "source": [
    "print(z)"
   ]
  },
  {
   "cell_type": "code",
   "execution_count": null,
   "metadata": {},
   "outputs": [],
   "source": [
    "# Exception handling\n",
    " \n",
    "# Sometimes users make mistakes. Instead of scaring users with error messages, \n",
    "# we can use exception handling to deal with user input error. \n",
    "# A \"try\" statement, followed with our program code. \n",
    "# When user input is not what the program intends, the program catches it and display an informative message we define.\n",
    "try:\n",
    "    userstr = input(\"Please enter a sequence of numbers, separated with comma:\\n\")\n",
    "    usernum = userstr.split(',')\n",
    "    newlist = [int(item) for item in usernum]\n",
    "    usersum = sum(newlist)\n",
    "    print(\"The sum is\", usersum)\n",
    "except:\n",
    "    print(\"There is an error. Please check your input.\")\n",
    "    \n",
    "\n",
    "# By adding error type after except, we can use except to catch different types of errors.    \n",
    "# except TypeError:\n",
    "    # print(\"There is a TypeError.\")\n",
    "# except ValueError:\n",
    "    # print (\"There is a ValueError.\")"
   ]
  },
  {
   "cell_type": "markdown",
   "metadata": {},
   "source": [
    "### lambda functions\n",
    "    lambda functions are anonymous functions. \n",
    "    A lambda function can take any number of arguments, but can only have one expression.\n",
    "    The syntax of lambda function: lambda arguments: expression.\n",
    "    Why do we use lambda function?\n",
    "        1. It is shorter to define it.\n",
    "        2. A function is needed temporarily for a short period of time, often to be used inside another function."
   ]
  },
  {
   "cell_type": "code",
   "execution_count": null,
   "metadata": {},
   "outputs": [],
   "source": [
    "# Examples\n",
    "\n",
    "g = lambda x: x+10 \n",
    "print(g(5))\n",
    "\n",
    "# this is equivalent to the following\n",
    "def g(x):\n",
    "    return x+10"
   ]
  },
  {
   "cell_type": "code",
   "execution_count": null,
   "metadata": {},
   "outputs": [],
   "source": [
    "# With two arguments\n",
    "h = lambda x, y: x+y\n",
    "h(4,5)"
   ]
  },
  {
   "cell_type": "code",
   "execution_count": null,
   "metadata": {},
   "outputs": [],
   "source": [
    "# The expression can have conditions. \n",
    "j = lambda x: x if x % 2 else None\n",
    "print(j(7))"
   ]
  },
  {
   "cell_type": "code",
   "execution_count": null,
   "metadata": {},
   "outputs": [],
   "source": [
    "# Use lambda function inside another function. \n",
    "# For example filter() filters an iterable (e.g., lists) using a filtering logic.\n",
    "# lambda functions are usually used to define the filtering logic.\n",
    "\n",
    "a = filter(lambda x: x>5, [1,2,4,6,7])\n",
    "a\n",
    "list(a)\n",
    "\n",
    "b = filter(lambda x: x if x % 2 else None, [1,2,4,6,7])\n",
    "list(b)\n",
    "\n",
    "# In data processing, lambda functions can be used together with apply(); apply(lamda x: x*(1+10%))"
   ]
  },
  {
   "cell_type": "code",
   "execution_count": null,
   "metadata": {},
   "outputs": [],
   "source": [
    "c = filter(lambda s: s>'a', 'apple')\n",
    "list(c)"
   ]
  },
  {
   "cell_type": "code",
   "execution_count": null,
   "metadata": {},
   "outputs": [],
   "source": [
    "# Related: list comprehension\n",
    "# List comprehension offers a shorter syntax when you want to create a new list based on the values of an existing list.\n",
    "# For example, to create a new list by multiply the current values by 1000.\n",
    "varIncomek = [100,20,40,60,70] # The unit is k.\n",
    "varIncome = [i*1000 for i in varIncomek]"
   ]
  },
  {
   "cell_type": "code",
   "execution_count": 1,
   "metadata": {},
   "outputs": [
    {
     "data": {
      "text/plain": [
       "[36, 49]"
      ]
     },
     "execution_count": 1,
     "metadata": {},
     "output_type": "execute_result"
    }
   ],
   "source": [
    "mylst = [1,2,4,6,7]\n",
    "largenum = [x*x for x in mylst if x>5]\n",
    "largenum"
   ]
  },
  {
   "cell_type": "code",
   "execution_count": 5,
   "metadata": {},
   "outputs": [
    {
     "ename": "SyntaxError",
     "evalue": "invalid syntax (<ipython-input-5-f188ea573ec8>, line 1)",
     "output_type": "error",
     "traceback": [
      "\u001b[1;36m  File \u001b[1;32m\"<ipython-input-5-f188ea573ec8>\"\u001b[1;36m, line \u001b[1;32m1\u001b[0m\n\u001b[1;33m    g = lambda x, y: x+y if x>y\u001b[0m\n\u001b[1;37m                               ^\u001b[0m\n\u001b[1;31mSyntaxError\u001b[0m\u001b[1;31m:\u001b[0m invalid syntax\n"
     ]
    }
   ],
   "source": [
    "g = lambda x, y: x+y if x>y\n",
    "g(6, 7)"
   ]
  }
 ],
 "metadata": {
  "kernelspec": {
   "display_name": "Python 3",
   "language": "python",
   "name": "python3"
  },
  "language_info": {
   "codemirror_mode": {
    "name": "ipython",
    "version": 3
   },
   "file_extension": ".py",
   "mimetype": "text/x-python",
   "name": "python",
   "nbconvert_exporter": "python",
   "pygments_lexer": "ipython3",
   "version": "3.7.3"
  }
 },
 "nbformat": 4,
 "nbformat_minor": 2
}
